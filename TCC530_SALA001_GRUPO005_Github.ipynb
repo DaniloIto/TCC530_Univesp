{
  "nbformat": 4,
  "nbformat_minor": 0,
  "metadata": {
    "colab": {
      "provenance": [],
      "toc_visible": true
    },
    "kernelspec": {
      "name": "python3",
      "display_name": "Python 3"
    },
    "language_info": {
      "name": "python"
    },
    "accelerator": "TPU",
    "gpuClass": "standard"
  },
  "cells": [
    {
      "cell_type": "markdown",
      "source": [
        "# **UNIVESP - TRABALHO DE CONCLUSÃO DE CURSO - TCC**\n",
        "*TCC530 - SALA001 - GRUPO 005 - CIÊNCIA DE DADOS - 2020*"
      ],
      "metadata": {
        "id": "xpRqQscrYbYq"
      }
    },
    {
      "cell_type": "markdown",
      "source": [
        "## 1.0 Carregando as Bibliotecas"
      ],
      "metadata": {
        "id": "7dbzpNMN7DGF"
      }
    },
    {
      "cell_type": "code",
      "execution_count": 2,
      "metadata": {
        "id": "M4cAIorvDjcK"
      },
      "outputs": [],
      "source": [
        "import requests\n",
        "# import warnings\n",
        "# import time\n",
        "import pandas as pd\n",
        "# from pandas.core.common import SettingWithCopyWarning\n",
        "import numpy as np\n",
        "import matplotlib.pyplot as plt\n",
        "# import csv\n",
        "# from matplotlib.colors import ListedColormap\n",
        "# from sklearn.model_selection import train_test_split\n",
        "# from sklearn.svm import SVC\n",
        "# from sklearn.metrics import accuracy_score\n",
        "# from sklearn.preprocessing import StandardScaler\n",
        "import seaborn as sns\n",
        "plt.rcParams['figure.figsize']=[15,5]\n",
        "#from urllib.request import urlopen\n",
        "#from io import BytesIO\n",
        "#import zipfile\n"
      ]
    },
    {
      "cell_type": "markdown",
      "source": [
        "## 2.0 Dataframes iniciais"
      ],
      "metadata": {
        "id": "GpFja80wYnCW"
      }
    },
    {
      "cell_type": "markdown",
      "source": [
        "Dataframes\n",
        "1. df_im - IPEA - IDHM 2010 por município\n",
        "2. df_ie - IPEA - IDH 2021 por estado\n",
        "3. df_pm - IPEA - Dados de população municipal 2021\n",
        "4. df_pe - IPEA - Dados de população estadual 2021\n",
        "5. df_am - IPEA - Dados de área dos municípios em km²\n",
        "6. df_ae - IPEA - Dados de área dos estados em km²\n",
        "7. df_hm - IPEA - Dados de altitude dos municípios em m\n",
        "8. df_ltm - IPEA - Dados de latitude dos municípios\n",
        "9. df_lgm - IPEA - Dados de longitude dos municípios\n",
        "10. df-ee - IPEA - dados de consumo de energia por estado\n",
        "11. df-pib - IBGE Dados de PIB por município \n",
        "12. df_pibe - IPEA Dados de PIB por estado\n",
        "13. df_gd - ANEEL - base de dados de geracao distribuida por município\n",
        "Dataframes Agrupamentos\n",
        "1. df_gdge1 - agrupamento de dados de GD por estado\n",
        "2. df_gdge2 - agrupamento de dados de GD por estado e ano\n",
        "3. df_gdgm1 - agrupamento de dados de GD por municipio\n",
        "4. df_gdgm2 - agrupamento de dados de GD por municipio e ano\n",
        "5. df_gd1 - base unificada de GD por estado\n",
        "6. df_gd2 - base unificada de GD por municipio"
      ],
      "metadata": {
        "id": "VdHUyAHEV6po"
      }
    },
    {
      "cell_type": "markdown",
      "source": [
        "### 1 - IDHM - INDICE DE DESENVOLVIMENTO HUMANO MUNICIPAL - 2010\n"
      ],
      "metadata": {
        "id": "08Y6URx8ao4C"
      }
    },
    {
      "cell_type": "markdown",
      "source": [],
      "metadata": {
        "id": "gSPijdv9Fsh5"
      }
    },
    {
      "cell_type": "code",
      "source": [
        "# Criando dataframe a partir de arquivo CSV\n",
        "url = 'https://raw.githubusercontent.com/DaniloIto/TCC530_Univesp/main/Ipea-IDHM/ipeadata%5B02-05-2023-09-46%5D.csv'\n",
        "\n",
        "# Carrega base de dados do google drive em arquivo CSV, separado por \";\", ignorando a primeira linha que contém somente o nome da tabela e importando até a coluna 4\n",
        "df_im = pd.read_csv(url, sep=\";\", skiprows=1, usecols=[0,1,2,3], decimal=',')\n",
        "\n",
        "# Mudar nome da coluna 2010 apara IDHM2010\n",
        "df_im.rename(columns={'2010': 'IDHM2010'}, inplace=True)\n",
        "\n",
        "# Explorando os 10 primeiros registros\n",
        "df_im.head(5)\n"
      ],
      "metadata": {
        "id": "Uf0Wc58lqeTu",
        "colab": {
          "base_uri": "https://localhost:8080/",
          "height": 206
        },
        "outputId": "21084c44-bedc-4764-f15a-5784444ef377"
      },
      "execution_count": 3,
      "outputs": [
        {
          "output_type": "execute_result",
          "data": {
            "text/plain": [
              "  Sigla   Código     Município  IDHM2010\n",
              "0    AC  1200013    Acrelândia     0.604\n",
              "1    AC  1200054  Assis Brasil     0.588\n",
              "2    AC  1200104     Brasiléia     0.614\n",
              "3    AC  1200138        Bujari     0.589\n",
              "4    AC  1200179      Capixaba     0.575"
            ],
            "text/html": [
              "\n",
              "  <div id=\"df-f017446d-dd21-414a-b70b-3d8c25871ec3\">\n",
              "    <div class=\"colab-df-container\">\n",
              "      <div>\n",
              "<style scoped>\n",
              "    .dataframe tbody tr th:only-of-type {\n",
              "        vertical-align: middle;\n",
              "    }\n",
              "\n",
              "    .dataframe tbody tr th {\n",
              "        vertical-align: top;\n",
              "    }\n",
              "\n",
              "    .dataframe thead th {\n",
              "        text-align: right;\n",
              "    }\n",
              "</style>\n",
              "<table border=\"1\" class=\"dataframe\">\n",
              "  <thead>\n",
              "    <tr style=\"text-align: right;\">\n",
              "      <th></th>\n",
              "      <th>Sigla</th>\n",
              "      <th>Código</th>\n",
              "      <th>Município</th>\n",
              "      <th>IDHM2010</th>\n",
              "    </tr>\n",
              "  </thead>\n",
              "  <tbody>\n",
              "    <tr>\n",
              "      <th>0</th>\n",
              "      <td>AC</td>\n",
              "      <td>1200013</td>\n",
              "      <td>Acrelândia</td>\n",
              "      <td>0.604</td>\n",
              "    </tr>\n",
              "    <tr>\n",
              "      <th>1</th>\n",
              "      <td>AC</td>\n",
              "      <td>1200054</td>\n",
              "      <td>Assis Brasil</td>\n",
              "      <td>0.588</td>\n",
              "    </tr>\n",
              "    <tr>\n",
              "      <th>2</th>\n",
              "      <td>AC</td>\n",
              "      <td>1200104</td>\n",
              "      <td>Brasiléia</td>\n",
              "      <td>0.614</td>\n",
              "    </tr>\n",
              "    <tr>\n",
              "      <th>3</th>\n",
              "      <td>AC</td>\n",
              "      <td>1200138</td>\n",
              "      <td>Bujari</td>\n",
              "      <td>0.589</td>\n",
              "    </tr>\n",
              "    <tr>\n",
              "      <th>4</th>\n",
              "      <td>AC</td>\n",
              "      <td>1200179</td>\n",
              "      <td>Capixaba</td>\n",
              "      <td>0.575</td>\n",
              "    </tr>\n",
              "  </tbody>\n",
              "</table>\n",
              "</div>\n",
              "      <button class=\"colab-df-convert\" onclick=\"convertToInteractive('df-f017446d-dd21-414a-b70b-3d8c25871ec3')\"\n",
              "              title=\"Convert this dataframe to an interactive table.\"\n",
              "              style=\"display:none;\">\n",
              "        \n",
              "  <svg xmlns=\"http://www.w3.org/2000/svg\" height=\"24px\"viewBox=\"0 0 24 24\"\n",
              "       width=\"24px\">\n",
              "    <path d=\"M0 0h24v24H0V0z\" fill=\"none\"/>\n",
              "    <path d=\"M18.56 5.44l.94 2.06.94-2.06 2.06-.94-2.06-.94-.94-2.06-.94 2.06-2.06.94zm-11 1L8.5 8.5l.94-2.06 2.06-.94-2.06-.94L8.5 2.5l-.94 2.06-2.06.94zm10 10l.94 2.06.94-2.06 2.06-.94-2.06-.94-.94-2.06-.94 2.06-2.06.94z\"/><path d=\"M17.41 7.96l-1.37-1.37c-.4-.4-.92-.59-1.43-.59-.52 0-1.04.2-1.43.59L10.3 9.45l-7.72 7.72c-.78.78-.78 2.05 0 2.83L4 21.41c.39.39.9.59 1.41.59.51 0 1.02-.2 1.41-.59l7.78-7.78 2.81-2.81c.8-.78.8-2.07 0-2.86zM5.41 20L4 18.59l7.72-7.72 1.47 1.35L5.41 20z\"/>\n",
              "  </svg>\n",
              "      </button>\n",
              "      \n",
              "  <style>\n",
              "    .colab-df-container {\n",
              "      display:flex;\n",
              "      flex-wrap:wrap;\n",
              "      gap: 12px;\n",
              "    }\n",
              "\n",
              "    .colab-df-convert {\n",
              "      background-color: #E8F0FE;\n",
              "      border: none;\n",
              "      border-radius: 50%;\n",
              "      cursor: pointer;\n",
              "      display: none;\n",
              "      fill: #1967D2;\n",
              "      height: 32px;\n",
              "      padding: 0 0 0 0;\n",
              "      width: 32px;\n",
              "    }\n",
              "\n",
              "    .colab-df-convert:hover {\n",
              "      background-color: #E2EBFA;\n",
              "      box-shadow: 0px 1px 2px rgba(60, 64, 67, 0.3), 0px 1px 3px 1px rgba(60, 64, 67, 0.15);\n",
              "      fill: #174EA6;\n",
              "    }\n",
              "\n",
              "    [theme=dark] .colab-df-convert {\n",
              "      background-color: #3B4455;\n",
              "      fill: #D2E3FC;\n",
              "    }\n",
              "\n",
              "    [theme=dark] .colab-df-convert:hover {\n",
              "      background-color: #434B5C;\n",
              "      box-shadow: 0px 1px 3px 1px rgba(0, 0, 0, 0.15);\n",
              "      filter: drop-shadow(0px 1px 2px rgba(0, 0, 0, 0.3));\n",
              "      fill: #FFFFFF;\n",
              "    }\n",
              "  </style>\n",
              "\n",
              "      <script>\n",
              "        const buttonEl =\n",
              "          document.querySelector('#df-f017446d-dd21-414a-b70b-3d8c25871ec3 button.colab-df-convert');\n",
              "        buttonEl.style.display =\n",
              "          google.colab.kernel.accessAllowed ? 'block' : 'none';\n",
              "\n",
              "        async function convertToInteractive(key) {\n",
              "          const element = document.querySelector('#df-f017446d-dd21-414a-b70b-3d8c25871ec3');\n",
              "          const dataTable =\n",
              "            await google.colab.kernel.invokeFunction('convertToInteractive',\n",
              "                                                     [key], {});\n",
              "          if (!dataTable) return;\n",
              "\n",
              "          const docLinkHtml = 'Like what you see? Visit the ' +\n",
              "            '<a target=\"_blank\" href=https://colab.research.google.com/notebooks/data_table.ipynb>data table notebook</a>'\n",
              "            + ' to learn more about interactive tables.';\n",
              "          element.innerHTML = '';\n",
              "          dataTable['output_type'] = 'display_data';\n",
              "          await google.colab.output.renderOutput(dataTable, element);\n",
              "          const docLink = document.createElement('div');\n",
              "          docLink.innerHTML = docLinkHtml;\n",
              "          element.appendChild(docLink);\n",
              "        }\n",
              "      </script>\n",
              "    </div>\n",
              "  </div>\n",
              "  "
            ]
          },
          "metadata": {},
          "execution_count": 3
        }
      ]
    },
    {
      "cell_type": "code",
      "source": [
        "#Visualizando índices e tipo de dados\n",
        "df_im.info()"
      ],
      "metadata": {
        "colab": {
          "base_uri": "https://localhost:8080/"
        },
        "id": "ApraQCWMcDIK",
        "outputId": "9aa4cf7d-ab30-4fe8-e1ae-72a2a5daeb43"
      },
      "execution_count": 4,
      "outputs": [
        {
          "output_type": "stream",
          "name": "stdout",
          "text": [
            "<class 'pandas.core.frame.DataFrame'>\n",
            "RangeIndex: 5596 entries, 0 to 5595\n",
            "Data columns (total 4 columns):\n",
            " #   Column     Non-Null Count  Dtype  \n",
            "---  ------     --------------  -----  \n",
            " 0   Sigla      5596 non-null   object \n",
            " 1   Código     5596 non-null   int64  \n",
            " 2   Município  5596 non-null   object \n",
            " 3   IDHM2010   5564 non-null   float64\n",
            "dtypes: float64(1), int64(1), object(2)\n",
            "memory usage: 175.0+ KB\n"
          ]
        }
      ]
    },
    {
      "cell_type": "code",
      "source": [
        "df_im.shape"
      ],
      "metadata": {
        "colab": {
          "base_uri": "https://localhost:8080/"
        },
        "id": "tCQU7DUqrbs8",
        "outputId": "74e7d577-d5a2-467e-80f1-9d16ef932148"
      },
      "execution_count": 5,
      "outputs": [
        {
          "output_type": "execute_result",
          "data": {
            "text/plain": [
              "(5596, 4)"
            ]
          },
          "metadata": {},
          "execution_count": 5
        }
      ]
    },
    {
      "cell_type": "markdown",
      "source": [
        "### 2 - IDH2021 - INDICE DE DESENVOLVIMENTO HUMANDO ESTADUAL - 2021"
      ],
      "metadata": {
        "id": "SEtKhPgCca0E"
      }
    },
    {
      "cell_type": "code",
      "source": [
        "url = 'https://github.com/DaniloIto/TCC530_Univesp/blob/main/Ipea-Atlas-IDH-Estados2021/data.xlsx?raw=true'\n",
        "\n",
        "# Criando dataframe a partir de arquivo CSV\n",
        "df_ie = pd.read_excel(url)\n",
        "\n",
        "# Mudar nome da coluna \n",
        "df_ie.rename(columns={'IDHM 2021': 'IDH2021'}, inplace=True)\n",
        "\n",
        "df_ie.head(5)"
      ],
      "metadata": {
        "colab": {
          "base_uri": "https://localhost:8080/",
          "height": 206
        },
        "id": "8u_cFB8uWP6b",
        "outputId": "9894ca23-b49b-4dd4-8417-14966082e8ca"
      },
      "execution_count": 6,
      "outputs": [
        {
          "output_type": "execute_result",
          "data": {
            "text/plain": [
              "  Territorialidades IDH2021\n",
              "0            Brasil   0.766\n",
              "1              Acre    0.71\n",
              "2           Alagoas   0.684\n",
              "3             Amapá   0.688\n",
              "4          Amazonas     0.7"
            ],
            "text/html": [
              "\n",
              "  <div id=\"df-d33b1c98-36f7-4cf6-91cc-48bbd3b9a949\">\n",
              "    <div class=\"colab-df-container\">\n",
              "      <div>\n",
              "<style scoped>\n",
              "    .dataframe tbody tr th:only-of-type {\n",
              "        vertical-align: middle;\n",
              "    }\n",
              "\n",
              "    .dataframe tbody tr th {\n",
              "        vertical-align: top;\n",
              "    }\n",
              "\n",
              "    .dataframe thead th {\n",
              "        text-align: right;\n",
              "    }\n",
              "</style>\n",
              "<table border=\"1\" class=\"dataframe\">\n",
              "  <thead>\n",
              "    <tr style=\"text-align: right;\">\n",
              "      <th></th>\n",
              "      <th>Territorialidades</th>\n",
              "      <th>IDH2021</th>\n",
              "    </tr>\n",
              "  </thead>\n",
              "  <tbody>\n",
              "    <tr>\n",
              "      <th>0</th>\n",
              "      <td>Brasil</td>\n",
              "      <td>0.766</td>\n",
              "    </tr>\n",
              "    <tr>\n",
              "      <th>1</th>\n",
              "      <td>Acre</td>\n",
              "      <td>0.71</td>\n",
              "    </tr>\n",
              "    <tr>\n",
              "      <th>2</th>\n",
              "      <td>Alagoas</td>\n",
              "      <td>0.684</td>\n",
              "    </tr>\n",
              "    <tr>\n",
              "      <th>3</th>\n",
              "      <td>Amapá</td>\n",
              "      <td>0.688</td>\n",
              "    </tr>\n",
              "    <tr>\n",
              "      <th>4</th>\n",
              "      <td>Amazonas</td>\n",
              "      <td>0.7</td>\n",
              "    </tr>\n",
              "  </tbody>\n",
              "</table>\n",
              "</div>\n",
              "      <button class=\"colab-df-convert\" onclick=\"convertToInteractive('df-d33b1c98-36f7-4cf6-91cc-48bbd3b9a949')\"\n",
              "              title=\"Convert this dataframe to an interactive table.\"\n",
              "              style=\"display:none;\">\n",
              "        \n",
              "  <svg xmlns=\"http://www.w3.org/2000/svg\" height=\"24px\"viewBox=\"0 0 24 24\"\n",
              "       width=\"24px\">\n",
              "    <path d=\"M0 0h24v24H0V0z\" fill=\"none\"/>\n",
              "    <path d=\"M18.56 5.44l.94 2.06.94-2.06 2.06-.94-2.06-.94-.94-2.06-.94 2.06-2.06.94zm-11 1L8.5 8.5l.94-2.06 2.06-.94-2.06-.94L8.5 2.5l-.94 2.06-2.06.94zm10 10l.94 2.06.94-2.06 2.06-.94-2.06-.94-.94-2.06-.94 2.06-2.06.94z\"/><path d=\"M17.41 7.96l-1.37-1.37c-.4-.4-.92-.59-1.43-.59-.52 0-1.04.2-1.43.59L10.3 9.45l-7.72 7.72c-.78.78-.78 2.05 0 2.83L4 21.41c.39.39.9.59 1.41.59.51 0 1.02-.2 1.41-.59l7.78-7.78 2.81-2.81c.8-.78.8-2.07 0-2.86zM5.41 20L4 18.59l7.72-7.72 1.47 1.35L5.41 20z\"/>\n",
              "  </svg>\n",
              "      </button>\n",
              "      \n",
              "  <style>\n",
              "    .colab-df-container {\n",
              "      display:flex;\n",
              "      flex-wrap:wrap;\n",
              "      gap: 12px;\n",
              "    }\n",
              "\n",
              "    .colab-df-convert {\n",
              "      background-color: #E8F0FE;\n",
              "      border: none;\n",
              "      border-radius: 50%;\n",
              "      cursor: pointer;\n",
              "      display: none;\n",
              "      fill: #1967D2;\n",
              "      height: 32px;\n",
              "      padding: 0 0 0 0;\n",
              "      width: 32px;\n",
              "    }\n",
              "\n",
              "    .colab-df-convert:hover {\n",
              "      background-color: #E2EBFA;\n",
              "      box-shadow: 0px 1px 2px rgba(60, 64, 67, 0.3), 0px 1px 3px 1px rgba(60, 64, 67, 0.15);\n",
              "      fill: #174EA6;\n",
              "    }\n",
              "\n",
              "    [theme=dark] .colab-df-convert {\n",
              "      background-color: #3B4455;\n",
              "      fill: #D2E3FC;\n",
              "    }\n",
              "\n",
              "    [theme=dark] .colab-df-convert:hover {\n",
              "      background-color: #434B5C;\n",
              "      box-shadow: 0px 1px 3px 1px rgba(0, 0, 0, 0.15);\n",
              "      filter: drop-shadow(0px 1px 2px rgba(0, 0, 0, 0.3));\n",
              "      fill: #FFFFFF;\n",
              "    }\n",
              "  </style>\n",
              "\n",
              "      <script>\n",
              "        const buttonEl =\n",
              "          document.querySelector('#df-d33b1c98-36f7-4cf6-91cc-48bbd3b9a949 button.colab-df-convert');\n",
              "        buttonEl.style.display =\n",
              "          google.colab.kernel.accessAllowed ? 'block' : 'none';\n",
              "\n",
              "        async function convertToInteractive(key) {\n",
              "          const element = document.querySelector('#df-d33b1c98-36f7-4cf6-91cc-48bbd3b9a949');\n",
              "          const dataTable =\n",
              "            await google.colab.kernel.invokeFunction('convertToInteractive',\n",
              "                                                     [key], {});\n",
              "          if (!dataTable) return;\n",
              "\n",
              "          const docLinkHtml = 'Like what you see? Visit the ' +\n",
              "            '<a target=\"_blank\" href=https://colab.research.google.com/notebooks/data_table.ipynb>data table notebook</a>'\n",
              "            + ' to learn more about interactive tables.';\n",
              "          element.innerHTML = '';\n",
              "          dataTable['output_type'] = 'display_data';\n",
              "          await google.colab.output.renderOutput(dataTable, element);\n",
              "          const docLink = document.createElement('div');\n",
              "          docLink.innerHTML = docLinkHtml;\n",
              "          element.appendChild(docLink);\n",
              "        }\n",
              "      </script>\n",
              "    </div>\n",
              "  </div>\n",
              "  "
            ]
          },
          "metadata": {},
          "execution_count": 6
        }
      ]
    },
    {
      "cell_type": "code",
      "source": [
        "df_ie.tail()"
      ],
      "metadata": {
        "colab": {
          "base_uri": "https://localhost:8080/",
          "height": 206
        },
        "id": "Y66QR41ImfGm",
        "outputId": "4dcab71f-e94a-484b-82f4-b696f00aca1c"
      },
      "execution_count": 7,
      "outputs": [
        {
          "output_type": "execute_result",
          "data": {
            "text/plain": [
              "                                    Territorialidades IDH2021\n",
              "26                                            Sergipe   0.702\n",
              "27                                          Tocantins   0.731\n",
              "28                                                           \n",
              "29  Elaboração: Atlas do Desenvolvimento Humano no...     NaN\n",
              "30  Fontes: dados do IBGE e de registros administr...     NaN"
            ],
            "text/html": [
              "\n",
              "  <div id=\"df-94546bf5-e1b8-43ad-9c30-9a19e82e925a\">\n",
              "    <div class=\"colab-df-container\">\n",
              "      <div>\n",
              "<style scoped>\n",
              "    .dataframe tbody tr th:only-of-type {\n",
              "        vertical-align: middle;\n",
              "    }\n",
              "\n",
              "    .dataframe tbody tr th {\n",
              "        vertical-align: top;\n",
              "    }\n",
              "\n",
              "    .dataframe thead th {\n",
              "        text-align: right;\n",
              "    }\n",
              "</style>\n",
              "<table border=\"1\" class=\"dataframe\">\n",
              "  <thead>\n",
              "    <tr style=\"text-align: right;\">\n",
              "      <th></th>\n",
              "      <th>Territorialidades</th>\n",
              "      <th>IDH2021</th>\n",
              "    </tr>\n",
              "  </thead>\n",
              "  <tbody>\n",
              "    <tr>\n",
              "      <th>26</th>\n",
              "      <td>Sergipe</td>\n",
              "      <td>0.702</td>\n",
              "    </tr>\n",
              "    <tr>\n",
              "      <th>27</th>\n",
              "      <td>Tocantins</td>\n",
              "      <td>0.731</td>\n",
              "    </tr>\n",
              "    <tr>\n",
              "      <th>28</th>\n",
              "      <td></td>\n",
              "      <td></td>\n",
              "    </tr>\n",
              "    <tr>\n",
              "      <th>29</th>\n",
              "      <td>Elaboração: Atlas do Desenvolvimento Humano no...</td>\n",
              "      <td>NaN</td>\n",
              "    </tr>\n",
              "    <tr>\n",
              "      <th>30</th>\n",
              "      <td>Fontes: dados do IBGE e de registros administr...</td>\n",
              "      <td>NaN</td>\n",
              "    </tr>\n",
              "  </tbody>\n",
              "</table>\n",
              "</div>\n",
              "      <button class=\"colab-df-convert\" onclick=\"convertToInteractive('df-94546bf5-e1b8-43ad-9c30-9a19e82e925a')\"\n",
              "              title=\"Convert this dataframe to an interactive table.\"\n",
              "              style=\"display:none;\">\n",
              "        \n",
              "  <svg xmlns=\"http://www.w3.org/2000/svg\" height=\"24px\"viewBox=\"0 0 24 24\"\n",
              "       width=\"24px\">\n",
              "    <path d=\"M0 0h24v24H0V0z\" fill=\"none\"/>\n",
              "    <path d=\"M18.56 5.44l.94 2.06.94-2.06 2.06-.94-2.06-.94-.94-2.06-.94 2.06-2.06.94zm-11 1L8.5 8.5l.94-2.06 2.06-.94-2.06-.94L8.5 2.5l-.94 2.06-2.06.94zm10 10l.94 2.06.94-2.06 2.06-.94-2.06-.94-.94-2.06-.94 2.06-2.06.94z\"/><path d=\"M17.41 7.96l-1.37-1.37c-.4-.4-.92-.59-1.43-.59-.52 0-1.04.2-1.43.59L10.3 9.45l-7.72 7.72c-.78.78-.78 2.05 0 2.83L4 21.41c.39.39.9.59 1.41.59.51 0 1.02-.2 1.41-.59l7.78-7.78 2.81-2.81c.8-.78.8-2.07 0-2.86zM5.41 20L4 18.59l7.72-7.72 1.47 1.35L5.41 20z\"/>\n",
              "  </svg>\n",
              "      </button>\n",
              "      \n",
              "  <style>\n",
              "    .colab-df-container {\n",
              "      display:flex;\n",
              "      flex-wrap:wrap;\n",
              "      gap: 12px;\n",
              "    }\n",
              "\n",
              "    .colab-df-convert {\n",
              "      background-color: #E8F0FE;\n",
              "      border: none;\n",
              "      border-radius: 50%;\n",
              "      cursor: pointer;\n",
              "      display: none;\n",
              "      fill: #1967D2;\n",
              "      height: 32px;\n",
              "      padding: 0 0 0 0;\n",
              "      width: 32px;\n",
              "    }\n",
              "\n",
              "    .colab-df-convert:hover {\n",
              "      background-color: #E2EBFA;\n",
              "      box-shadow: 0px 1px 2px rgba(60, 64, 67, 0.3), 0px 1px 3px 1px rgba(60, 64, 67, 0.15);\n",
              "      fill: #174EA6;\n",
              "    }\n",
              "\n",
              "    [theme=dark] .colab-df-convert {\n",
              "      background-color: #3B4455;\n",
              "      fill: #D2E3FC;\n",
              "    }\n",
              "\n",
              "    [theme=dark] .colab-df-convert:hover {\n",
              "      background-color: #434B5C;\n",
              "      box-shadow: 0px 1px 3px 1px rgba(0, 0, 0, 0.15);\n",
              "      filter: drop-shadow(0px 1px 2px rgba(0, 0, 0, 0.3));\n",
              "      fill: #FFFFFF;\n",
              "    }\n",
              "  </style>\n",
              "\n",
              "      <script>\n",
              "        const buttonEl =\n",
              "          document.querySelector('#df-94546bf5-e1b8-43ad-9c30-9a19e82e925a button.colab-df-convert');\n",
              "        buttonEl.style.display =\n",
              "          google.colab.kernel.accessAllowed ? 'block' : 'none';\n",
              "\n",
              "        async function convertToInteractive(key) {\n",
              "          const element = document.querySelector('#df-94546bf5-e1b8-43ad-9c30-9a19e82e925a');\n",
              "          const dataTable =\n",
              "            await google.colab.kernel.invokeFunction('convertToInteractive',\n",
              "                                                     [key], {});\n",
              "          if (!dataTable) return;\n",
              "\n",
              "          const docLinkHtml = 'Like what you see? Visit the ' +\n",
              "            '<a target=\"_blank\" href=https://colab.research.google.com/notebooks/data_table.ipynb>data table notebook</a>'\n",
              "            + ' to learn more about interactive tables.';\n",
              "          element.innerHTML = '';\n",
              "          dataTable['output_type'] = 'display_data';\n",
              "          await google.colab.output.renderOutput(dataTable, element);\n",
              "          const docLink = document.createElement('div');\n",
              "          docLink.innerHTML = docLinkHtml;\n",
              "          element.appendChild(docLink);\n",
              "        }\n",
              "      </script>\n",
              "    </div>\n",
              "  </div>\n",
              "  "
            ]
          },
          "metadata": {},
          "execution_count": 7
        }
      ]
    },
    {
      "cell_type": "markdown",
      "source": [
        "Fonte de dados apresenta informações de texto não tabular nas últimas 3 linhas - necessário eliminar"
      ],
      "metadata": {
        "id": "xi72Tva6ntES"
      }
    },
    {
      "cell_type": "code",
      "source": [
        "# Retirando linhas que não são da tabela pois a fonte tem comentários\n",
        "df_ie = df_ie.drop([0,28,29,30])"
      ],
      "metadata": {
        "id": "lQCoFv0_motD"
      },
      "execution_count": 8,
      "outputs": []
    },
    {
      "cell_type": "code",
      "source": [
        "df_ie.shape"
      ],
      "metadata": {
        "colab": {
          "base_uri": "https://localhost:8080/"
        },
        "id": "-HJZTpPZr0SS",
        "outputId": "00f8c3e8-181b-438b-d35f-c077adaffbaa"
      },
      "execution_count": 9,
      "outputs": [
        {
          "output_type": "execute_result",
          "data": {
            "text/plain": [
              "(27, 2)"
            ]
          },
          "metadata": {},
          "execution_count": 9
        }
      ]
    },
    {
      "cell_type": "markdown",
      "source": [
        "### 3 - IPEA - POPULAÇÃO MUNICIPAL 2021"
      ],
      "metadata": {
        "id": "WjxYwOOi7SXX"
      }
    },
    {
      "cell_type": "code",
      "source": [
        "url ='https://raw.githubusercontent.com/DaniloIto/TCC530_Univesp/main/Ipea-Pop-mun_2021/ipeadata%5B02-05-2023-09-54%5D.csv'\n",
        "\n",
        "# Criando dataframe a partir de arquivo CSV\n",
        "# Carrega base de dados do google drive em arquivo CSV, separado por \";\", ignorando a primeira linha que contém somente o nome da tabela e importando até a coluna 4\n",
        "df_pm = pd.read_csv(url, sep=\";\", skiprows=1, usecols=[0,1,2,3])\n",
        "\n",
        "# Mudar nome da coluna \n",
        "df_pm.rename(columns={'2021': 'PopM2021'}, inplace=True)\n",
        "\n",
        "# Explorando os 10 primeiros registros\n",
        "df_pm.head(5)"
      ],
      "metadata": {
        "colab": {
          "base_uri": "https://localhost:8080/",
          "height": 206
        },
        "id": "TTaFUqdJ7RS3",
        "outputId": "0f33e6d0-83f7-41fe-8ef9-bae716ef3a77"
      },
      "execution_count": 10,
      "outputs": [
        {
          "output_type": "execute_result",
          "data": {
            "text/plain": [
              "  Sigla   Código     Município  PopM2021\n",
              "0    AC  1200013    Acrelândia   15721.0\n",
              "1    AC  1200054  Assis Brasil    7649.0\n",
              "2    AC  1200104     Brasiléia   27123.0\n",
              "3    AC  1200138        Bujari   10572.0\n",
              "4    AC  1200179      Capixaba   12280.0"
            ],
            "text/html": [
              "\n",
              "  <div id=\"df-3bc178c7-b5a7-4c55-8ccc-ecb13895eb21\">\n",
              "    <div class=\"colab-df-container\">\n",
              "      <div>\n",
              "<style scoped>\n",
              "    .dataframe tbody tr th:only-of-type {\n",
              "        vertical-align: middle;\n",
              "    }\n",
              "\n",
              "    .dataframe tbody tr th {\n",
              "        vertical-align: top;\n",
              "    }\n",
              "\n",
              "    .dataframe thead th {\n",
              "        text-align: right;\n",
              "    }\n",
              "</style>\n",
              "<table border=\"1\" class=\"dataframe\">\n",
              "  <thead>\n",
              "    <tr style=\"text-align: right;\">\n",
              "      <th></th>\n",
              "      <th>Sigla</th>\n",
              "      <th>Código</th>\n",
              "      <th>Município</th>\n",
              "      <th>PopM2021</th>\n",
              "    </tr>\n",
              "  </thead>\n",
              "  <tbody>\n",
              "    <tr>\n",
              "      <th>0</th>\n",
              "      <td>AC</td>\n",
              "      <td>1200013</td>\n",
              "      <td>Acrelândia</td>\n",
              "      <td>15721.0</td>\n",
              "    </tr>\n",
              "    <tr>\n",
              "      <th>1</th>\n",
              "      <td>AC</td>\n",
              "      <td>1200054</td>\n",
              "      <td>Assis Brasil</td>\n",
              "      <td>7649.0</td>\n",
              "    </tr>\n",
              "    <tr>\n",
              "      <th>2</th>\n",
              "      <td>AC</td>\n",
              "      <td>1200104</td>\n",
              "      <td>Brasiléia</td>\n",
              "      <td>27123.0</td>\n",
              "    </tr>\n",
              "    <tr>\n",
              "      <th>3</th>\n",
              "      <td>AC</td>\n",
              "      <td>1200138</td>\n",
              "      <td>Bujari</td>\n",
              "      <td>10572.0</td>\n",
              "    </tr>\n",
              "    <tr>\n",
              "      <th>4</th>\n",
              "      <td>AC</td>\n",
              "      <td>1200179</td>\n",
              "      <td>Capixaba</td>\n",
              "      <td>12280.0</td>\n",
              "    </tr>\n",
              "  </tbody>\n",
              "</table>\n",
              "</div>\n",
              "      <button class=\"colab-df-convert\" onclick=\"convertToInteractive('df-3bc178c7-b5a7-4c55-8ccc-ecb13895eb21')\"\n",
              "              title=\"Convert this dataframe to an interactive table.\"\n",
              "              style=\"display:none;\">\n",
              "        \n",
              "  <svg xmlns=\"http://www.w3.org/2000/svg\" height=\"24px\"viewBox=\"0 0 24 24\"\n",
              "       width=\"24px\">\n",
              "    <path d=\"M0 0h24v24H0V0z\" fill=\"none\"/>\n",
              "    <path d=\"M18.56 5.44l.94 2.06.94-2.06 2.06-.94-2.06-.94-.94-2.06-.94 2.06-2.06.94zm-11 1L8.5 8.5l.94-2.06 2.06-.94-2.06-.94L8.5 2.5l-.94 2.06-2.06.94zm10 10l.94 2.06.94-2.06 2.06-.94-2.06-.94-.94-2.06-.94 2.06-2.06.94z\"/><path d=\"M17.41 7.96l-1.37-1.37c-.4-.4-.92-.59-1.43-.59-.52 0-1.04.2-1.43.59L10.3 9.45l-7.72 7.72c-.78.78-.78 2.05 0 2.83L4 21.41c.39.39.9.59 1.41.59.51 0 1.02-.2 1.41-.59l7.78-7.78 2.81-2.81c.8-.78.8-2.07 0-2.86zM5.41 20L4 18.59l7.72-7.72 1.47 1.35L5.41 20z\"/>\n",
              "  </svg>\n",
              "      </button>\n",
              "      \n",
              "  <style>\n",
              "    .colab-df-container {\n",
              "      display:flex;\n",
              "      flex-wrap:wrap;\n",
              "      gap: 12px;\n",
              "    }\n",
              "\n",
              "    .colab-df-convert {\n",
              "      background-color: #E8F0FE;\n",
              "      border: none;\n",
              "      border-radius: 50%;\n",
              "      cursor: pointer;\n",
              "      display: none;\n",
              "      fill: #1967D2;\n",
              "      height: 32px;\n",
              "      padding: 0 0 0 0;\n",
              "      width: 32px;\n",
              "    }\n",
              "\n",
              "    .colab-df-convert:hover {\n",
              "      background-color: #E2EBFA;\n",
              "      box-shadow: 0px 1px 2px rgba(60, 64, 67, 0.3), 0px 1px 3px 1px rgba(60, 64, 67, 0.15);\n",
              "      fill: #174EA6;\n",
              "    }\n",
              "\n",
              "    [theme=dark] .colab-df-convert {\n",
              "      background-color: #3B4455;\n",
              "      fill: #D2E3FC;\n",
              "    }\n",
              "\n",
              "    [theme=dark] .colab-df-convert:hover {\n",
              "      background-color: #434B5C;\n",
              "      box-shadow: 0px 1px 3px 1px rgba(0, 0, 0, 0.15);\n",
              "      filter: drop-shadow(0px 1px 2px rgba(0, 0, 0, 0.3));\n",
              "      fill: #FFFFFF;\n",
              "    }\n",
              "  </style>\n",
              "\n",
              "      <script>\n",
              "        const buttonEl =\n",
              "          document.querySelector('#df-3bc178c7-b5a7-4c55-8ccc-ecb13895eb21 button.colab-df-convert');\n",
              "        buttonEl.style.display =\n",
              "          google.colab.kernel.accessAllowed ? 'block' : 'none';\n",
              "\n",
              "        async function convertToInteractive(key) {\n",
              "          const element = document.querySelector('#df-3bc178c7-b5a7-4c55-8ccc-ecb13895eb21');\n",
              "          const dataTable =\n",
              "            await google.colab.kernel.invokeFunction('convertToInteractive',\n",
              "                                                     [key], {});\n",
              "          if (!dataTable) return;\n",
              "\n",
              "          const docLinkHtml = 'Like what you see? Visit the ' +\n",
              "            '<a target=\"_blank\" href=https://colab.research.google.com/notebooks/data_table.ipynb>data table notebook</a>'\n",
              "            + ' to learn more about interactive tables.';\n",
              "          element.innerHTML = '';\n",
              "          dataTable['output_type'] = 'display_data';\n",
              "          await google.colab.output.renderOutput(dataTable, element);\n",
              "          const docLink = document.createElement('div');\n",
              "          docLink.innerHTML = docLinkHtml;\n",
              "          element.appendChild(docLink);\n",
              "        }\n",
              "      </script>\n",
              "    </div>\n",
              "  </div>\n",
              "  "
            ]
          },
          "metadata": {},
          "execution_count": 10
        }
      ]
    },
    {
      "cell_type": "code",
      "source": [
        "df_pm.shape"
      ],
      "metadata": {
        "colab": {
          "base_uri": "https://localhost:8080/"
        },
        "id": "lnjc9VoMrmOt",
        "outputId": "7c6b1ac9-ff14-4c96-bd78-7a54be47d4ff"
      },
      "execution_count": 11,
      "outputs": [
        {
          "output_type": "execute_result",
          "data": {
            "text/plain": [
              "(5596, 4)"
            ]
          },
          "metadata": {},
          "execution_count": 11
        }
      ]
    },
    {
      "cell_type": "markdown",
      "source": [
        "### 4 - DADOS IPEA - POPULAÇÃO ESTADUAL 2021"
      ],
      "metadata": {
        "id": "BWUt-MI38vFr"
      }
    },
    {
      "cell_type": "code",
      "source": [
        "url = 'https://raw.githubusercontent.com/DaniloIto/TCC530_Univesp/main/Ipea-Pop-Estado_2021/ipeadata%5B02-05-2023-10-06%5D.csv'\n",
        "\n",
        "# Criando dataframe a partir de arquivo CSV\n",
        "# Carrega base de dados do google drive em arquivo CSV, separado por \";\", ignorando a primeira linha que contém somente o nome da tabela e importando até a coluna 4\n",
        "df_pe = pd.read_csv(url, sep=\";\", skiprows=1, usecols=[0,1,2,3])\n",
        "\n",
        "# Mudar nome da coluna\n",
        "df_pe.rename(columns={'2021': 'PopE2021'}, inplace=True)\n",
        "\n",
        "# Explorando os 10 primeiros registros\n",
        "df_pe.head(5)"
      ],
      "metadata": {
        "colab": {
          "base_uri": "https://localhost:8080/",
          "height": 206
        },
        "id": "P8-h2cZ68tvz",
        "outputId": "d17f4aac-add2-4323-d94a-d828a2f25684"
      },
      "execution_count": 12,
      "outputs": [
        {
          "output_type": "execute_result",
          "data": {
            "text/plain": [
              "  Sigla  Código    Estado  PopE2021\n",
              "0    AC      12      Acre    906876\n",
              "1    AL      27   Alagoas   3365351\n",
              "2    AM      13  Amazonas   4269995\n",
              "3    AP      16     Amapá    877613\n",
              "4    BA      29     Bahia  14985284"
            ],
            "text/html": [
              "\n",
              "  <div id=\"df-f37495ab-5113-421f-86cc-38a5f49db31b\">\n",
              "    <div class=\"colab-df-container\">\n",
              "      <div>\n",
              "<style scoped>\n",
              "    .dataframe tbody tr th:only-of-type {\n",
              "        vertical-align: middle;\n",
              "    }\n",
              "\n",
              "    .dataframe tbody tr th {\n",
              "        vertical-align: top;\n",
              "    }\n",
              "\n",
              "    .dataframe thead th {\n",
              "        text-align: right;\n",
              "    }\n",
              "</style>\n",
              "<table border=\"1\" class=\"dataframe\">\n",
              "  <thead>\n",
              "    <tr style=\"text-align: right;\">\n",
              "      <th></th>\n",
              "      <th>Sigla</th>\n",
              "      <th>Código</th>\n",
              "      <th>Estado</th>\n",
              "      <th>PopE2021</th>\n",
              "    </tr>\n",
              "  </thead>\n",
              "  <tbody>\n",
              "    <tr>\n",
              "      <th>0</th>\n",
              "      <td>AC</td>\n",
              "      <td>12</td>\n",
              "      <td>Acre</td>\n",
              "      <td>906876</td>\n",
              "    </tr>\n",
              "    <tr>\n",
              "      <th>1</th>\n",
              "      <td>AL</td>\n",
              "      <td>27</td>\n",
              "      <td>Alagoas</td>\n",
              "      <td>3365351</td>\n",
              "    </tr>\n",
              "    <tr>\n",
              "      <th>2</th>\n",
              "      <td>AM</td>\n",
              "      <td>13</td>\n",
              "      <td>Amazonas</td>\n",
              "      <td>4269995</td>\n",
              "    </tr>\n",
              "    <tr>\n",
              "      <th>3</th>\n",
              "      <td>AP</td>\n",
              "      <td>16</td>\n",
              "      <td>Amapá</td>\n",
              "      <td>877613</td>\n",
              "    </tr>\n",
              "    <tr>\n",
              "      <th>4</th>\n",
              "      <td>BA</td>\n",
              "      <td>29</td>\n",
              "      <td>Bahia</td>\n",
              "      <td>14985284</td>\n",
              "    </tr>\n",
              "  </tbody>\n",
              "</table>\n",
              "</div>\n",
              "      <button class=\"colab-df-convert\" onclick=\"convertToInteractive('df-f37495ab-5113-421f-86cc-38a5f49db31b')\"\n",
              "              title=\"Convert this dataframe to an interactive table.\"\n",
              "              style=\"display:none;\">\n",
              "        \n",
              "  <svg xmlns=\"http://www.w3.org/2000/svg\" height=\"24px\"viewBox=\"0 0 24 24\"\n",
              "       width=\"24px\">\n",
              "    <path d=\"M0 0h24v24H0V0z\" fill=\"none\"/>\n",
              "    <path d=\"M18.56 5.44l.94 2.06.94-2.06 2.06-.94-2.06-.94-.94-2.06-.94 2.06-2.06.94zm-11 1L8.5 8.5l.94-2.06 2.06-.94-2.06-.94L8.5 2.5l-.94 2.06-2.06.94zm10 10l.94 2.06.94-2.06 2.06-.94-2.06-.94-.94-2.06-.94 2.06-2.06.94z\"/><path d=\"M17.41 7.96l-1.37-1.37c-.4-.4-.92-.59-1.43-.59-.52 0-1.04.2-1.43.59L10.3 9.45l-7.72 7.72c-.78.78-.78 2.05 0 2.83L4 21.41c.39.39.9.59 1.41.59.51 0 1.02-.2 1.41-.59l7.78-7.78 2.81-2.81c.8-.78.8-2.07 0-2.86zM5.41 20L4 18.59l7.72-7.72 1.47 1.35L5.41 20z\"/>\n",
              "  </svg>\n",
              "      </button>\n",
              "      \n",
              "  <style>\n",
              "    .colab-df-container {\n",
              "      display:flex;\n",
              "      flex-wrap:wrap;\n",
              "      gap: 12px;\n",
              "    }\n",
              "\n",
              "    .colab-df-convert {\n",
              "      background-color: #E8F0FE;\n",
              "      border: none;\n",
              "      border-radius: 50%;\n",
              "      cursor: pointer;\n",
              "      display: none;\n",
              "      fill: #1967D2;\n",
              "      height: 32px;\n",
              "      padding: 0 0 0 0;\n",
              "      width: 32px;\n",
              "    }\n",
              "\n",
              "    .colab-df-convert:hover {\n",
              "      background-color: #E2EBFA;\n",
              "      box-shadow: 0px 1px 2px rgba(60, 64, 67, 0.3), 0px 1px 3px 1px rgba(60, 64, 67, 0.15);\n",
              "      fill: #174EA6;\n",
              "    }\n",
              "\n",
              "    [theme=dark] .colab-df-convert {\n",
              "      background-color: #3B4455;\n",
              "      fill: #D2E3FC;\n",
              "    }\n",
              "\n",
              "    [theme=dark] .colab-df-convert:hover {\n",
              "      background-color: #434B5C;\n",
              "      box-shadow: 0px 1px 3px 1px rgba(0, 0, 0, 0.15);\n",
              "      filter: drop-shadow(0px 1px 2px rgba(0, 0, 0, 0.3));\n",
              "      fill: #FFFFFF;\n",
              "    }\n",
              "  </style>\n",
              "\n",
              "      <script>\n",
              "        const buttonEl =\n",
              "          document.querySelector('#df-f37495ab-5113-421f-86cc-38a5f49db31b button.colab-df-convert');\n",
              "        buttonEl.style.display =\n",
              "          google.colab.kernel.accessAllowed ? 'block' : 'none';\n",
              "\n",
              "        async function convertToInteractive(key) {\n",
              "          const element = document.querySelector('#df-f37495ab-5113-421f-86cc-38a5f49db31b');\n",
              "          const dataTable =\n",
              "            await google.colab.kernel.invokeFunction('convertToInteractive',\n",
              "                                                     [key], {});\n",
              "          if (!dataTable) return;\n",
              "\n",
              "          const docLinkHtml = 'Like what you see? Visit the ' +\n",
              "            '<a target=\"_blank\" href=https://colab.research.google.com/notebooks/data_table.ipynb>data table notebook</a>'\n",
              "            + ' to learn more about interactive tables.';\n",
              "          element.innerHTML = '';\n",
              "          dataTable['output_type'] = 'display_data';\n",
              "          await google.colab.output.renderOutput(dataTable, element);\n",
              "          const docLink = document.createElement('div');\n",
              "          docLink.innerHTML = docLinkHtml;\n",
              "          element.appendChild(docLink);\n",
              "        }\n",
              "      </script>\n",
              "    </div>\n",
              "  </div>\n",
              "  "
            ]
          },
          "metadata": {},
          "execution_count": 12
        }
      ]
    },
    {
      "cell_type": "code",
      "source": [
        "df_pe.shape"
      ],
      "metadata": {
        "colab": {
          "base_uri": "https://localhost:8080/"
        },
        "id": "u9WYJw0lwxwz",
        "outputId": "aa3a255e-9d63-4d7a-a963-5fbf7eb55a35"
      },
      "execution_count": 13,
      "outputs": [
        {
          "output_type": "execute_result",
          "data": {
            "text/plain": [
              "(27, 4)"
            ]
          },
          "metadata": {},
          "execution_count": 13
        }
      ]
    },
    {
      "cell_type": "markdown",
      "source": [
        "### 5 - DADOS IPEA - AREA MUNICIPAL (km²)"
      ],
      "metadata": {
        "id": "dcBZ-xn9-R39"
      }
    },
    {
      "cell_type": "code",
      "source": [
        "url = 'https://raw.githubusercontent.com/DaniloIto/TCC530_Univesp/main/Ipea-Area-Mun/ipeadata%5B02-05-2023-10-12%5D.csv'\n",
        "\n",
        "# Criando dataframe a partir de arquivo CSV\n",
        "# Carrega base de dados do google drive em arquivo CSV, separado por \";\", ignorando a primeira linha que contém somente o nome da tabela e importando até a coluna 4, arquivo com separação decimal em virgula\n",
        "df_am = pd.read_csv(url, sep=\";\", skiprows=1, usecols=[0,1,2,3, 4, 5, 6, 7], decimal=',')\n",
        "\n",
        "# Reduzir o Dataframe com a área de 2022\n",
        "df_am = df_am.iloc[:, [0,1,2,7]]\n",
        "\n",
        "# Mudar nome da coluna\n",
        "df_am.rename(columns={'2022': 'AreaM2022'}, inplace=True)\n",
        "\n",
        "# Explorando os 10 primeiros registros\n",
        "df_am.head(5)"
      ],
      "metadata": {
        "colab": {
          "base_uri": "https://localhost:8080/",
          "height": 206
        },
        "id": "5EA4mwIr-RlG",
        "outputId": "006dc9dc-fe2e-4ecb-d4d2-d3e2ed7175df"
      },
      "execution_count": 16,
      "outputs": [
        {
          "output_type": "execute_result",
          "data": {
            "text/plain": [
              "  Sigla   Código     Município  AreaM2022\n",
              "0    AC  1200013    Acrelândia   1811.613\n",
              "1    AC  1200054  Assis Brasil   4979.073\n",
              "2    AC  1200104     Brasiléia   3928.174\n",
              "3    AC  1200138        Bujari   3034.869\n",
              "4    AC  1200179      Capixaba   1705.824"
            ],
            "text/html": [
              "\n",
              "  <div id=\"df-259e6811-3be3-45e1-aee5-3b8c6641ebe7\">\n",
              "    <div class=\"colab-df-container\">\n",
              "      <div>\n",
              "<style scoped>\n",
              "    .dataframe tbody tr th:only-of-type {\n",
              "        vertical-align: middle;\n",
              "    }\n",
              "\n",
              "    .dataframe tbody tr th {\n",
              "        vertical-align: top;\n",
              "    }\n",
              "\n",
              "    .dataframe thead th {\n",
              "        text-align: right;\n",
              "    }\n",
              "</style>\n",
              "<table border=\"1\" class=\"dataframe\">\n",
              "  <thead>\n",
              "    <tr style=\"text-align: right;\">\n",
              "      <th></th>\n",
              "      <th>Sigla</th>\n",
              "      <th>Código</th>\n",
              "      <th>Município</th>\n",
              "      <th>AreaM2022</th>\n",
              "    </tr>\n",
              "  </thead>\n",
              "  <tbody>\n",
              "    <tr>\n",
              "      <th>0</th>\n",
              "      <td>AC</td>\n",
              "      <td>1200013</td>\n",
              "      <td>Acrelândia</td>\n",
              "      <td>1811.613</td>\n",
              "    </tr>\n",
              "    <tr>\n",
              "      <th>1</th>\n",
              "      <td>AC</td>\n",
              "      <td>1200054</td>\n",
              "      <td>Assis Brasil</td>\n",
              "      <td>4979.073</td>\n",
              "    </tr>\n",
              "    <tr>\n",
              "      <th>2</th>\n",
              "      <td>AC</td>\n",
              "      <td>1200104</td>\n",
              "      <td>Brasiléia</td>\n",
              "      <td>3928.174</td>\n",
              "    </tr>\n",
              "    <tr>\n",
              "      <th>3</th>\n",
              "      <td>AC</td>\n",
              "      <td>1200138</td>\n",
              "      <td>Bujari</td>\n",
              "      <td>3034.869</td>\n",
              "    </tr>\n",
              "    <tr>\n",
              "      <th>4</th>\n",
              "      <td>AC</td>\n",
              "      <td>1200179</td>\n",
              "      <td>Capixaba</td>\n",
              "      <td>1705.824</td>\n",
              "    </tr>\n",
              "  </tbody>\n",
              "</table>\n",
              "</div>\n",
              "      <button class=\"colab-df-convert\" onclick=\"convertToInteractive('df-259e6811-3be3-45e1-aee5-3b8c6641ebe7')\"\n",
              "              title=\"Convert this dataframe to an interactive table.\"\n",
              "              style=\"display:none;\">\n",
              "        \n",
              "  <svg xmlns=\"http://www.w3.org/2000/svg\" height=\"24px\"viewBox=\"0 0 24 24\"\n",
              "       width=\"24px\">\n",
              "    <path d=\"M0 0h24v24H0V0z\" fill=\"none\"/>\n",
              "    <path d=\"M18.56 5.44l.94 2.06.94-2.06 2.06-.94-2.06-.94-.94-2.06-.94 2.06-2.06.94zm-11 1L8.5 8.5l.94-2.06 2.06-.94-2.06-.94L8.5 2.5l-.94 2.06-2.06.94zm10 10l.94 2.06.94-2.06 2.06-.94-2.06-.94-.94-2.06-.94 2.06-2.06.94z\"/><path d=\"M17.41 7.96l-1.37-1.37c-.4-.4-.92-.59-1.43-.59-.52 0-1.04.2-1.43.59L10.3 9.45l-7.72 7.72c-.78.78-.78 2.05 0 2.83L4 21.41c.39.39.9.59 1.41.59.51 0 1.02-.2 1.41-.59l7.78-7.78 2.81-2.81c.8-.78.8-2.07 0-2.86zM5.41 20L4 18.59l7.72-7.72 1.47 1.35L5.41 20z\"/>\n",
              "  </svg>\n",
              "      </button>\n",
              "      \n",
              "  <style>\n",
              "    .colab-df-container {\n",
              "      display:flex;\n",
              "      flex-wrap:wrap;\n",
              "      gap: 12px;\n",
              "    }\n",
              "\n",
              "    .colab-df-convert {\n",
              "      background-color: #E8F0FE;\n",
              "      border: none;\n",
              "      border-radius: 50%;\n",
              "      cursor: pointer;\n",
              "      display: none;\n",
              "      fill: #1967D2;\n",
              "      height: 32px;\n",
              "      padding: 0 0 0 0;\n",
              "      width: 32px;\n",
              "    }\n",
              "\n",
              "    .colab-df-convert:hover {\n",
              "      background-color: #E2EBFA;\n",
              "      box-shadow: 0px 1px 2px rgba(60, 64, 67, 0.3), 0px 1px 3px 1px rgba(60, 64, 67, 0.15);\n",
              "      fill: #174EA6;\n",
              "    }\n",
              "\n",
              "    [theme=dark] .colab-df-convert {\n",
              "      background-color: #3B4455;\n",
              "      fill: #D2E3FC;\n",
              "    }\n",
              "\n",
              "    [theme=dark] .colab-df-convert:hover {\n",
              "      background-color: #434B5C;\n",
              "      box-shadow: 0px 1px 3px 1px rgba(0, 0, 0, 0.15);\n",
              "      filter: drop-shadow(0px 1px 2px rgba(0, 0, 0, 0.3));\n",
              "      fill: #FFFFFF;\n",
              "    }\n",
              "  </style>\n",
              "\n",
              "      <script>\n",
              "        const buttonEl =\n",
              "          document.querySelector('#df-259e6811-3be3-45e1-aee5-3b8c6641ebe7 button.colab-df-convert');\n",
              "        buttonEl.style.display =\n",
              "          google.colab.kernel.accessAllowed ? 'block' : 'none';\n",
              "\n",
              "        async function convertToInteractive(key) {\n",
              "          const element = document.querySelector('#df-259e6811-3be3-45e1-aee5-3b8c6641ebe7');\n",
              "          const dataTable =\n",
              "            await google.colab.kernel.invokeFunction('convertToInteractive',\n",
              "                                                     [key], {});\n",
              "          if (!dataTable) return;\n",
              "\n",
              "          const docLinkHtml = 'Like what you see? Visit the ' +\n",
              "            '<a target=\"_blank\" href=https://colab.research.google.com/notebooks/data_table.ipynb>data table notebook</a>'\n",
              "            + ' to learn more about interactive tables.';\n",
              "          element.innerHTML = '';\n",
              "          dataTable['output_type'] = 'display_data';\n",
              "          await google.colab.output.renderOutput(dataTable, element);\n",
              "          const docLink = document.createElement('div');\n",
              "          docLink.innerHTML = docLinkHtml;\n",
              "          element.appendChild(docLink);\n",
              "        }\n",
              "      </script>\n",
              "    </div>\n",
              "  </div>\n",
              "  "
            ]
          },
          "metadata": {},
          "execution_count": 16
        }
      ]
    },
    {
      "cell_type": "code",
      "source": [
        "df_am.shape"
      ],
      "metadata": {
        "colab": {
          "base_uri": "https://localhost:8080/"
        },
        "id": "HqKA5GYow1dS",
        "outputId": "3af74b6f-e998-4d23-bb3b-f0f9986e0539"
      },
      "execution_count": 17,
      "outputs": [
        {
          "output_type": "execute_result",
          "data": {
            "text/plain": [
              "(5596, 4)"
            ]
          },
          "metadata": {},
          "execution_count": 17
        }
      ]
    },
    {
      "cell_type": "markdown",
      "source": [
        "### 6 - DADOS IPEA - AREA ESTADUAL (km²)"
      ],
      "metadata": {
        "id": "5s0dIKKM_EKC"
      }
    },
    {
      "cell_type": "code",
      "source": [
        "url ='https://raw.githubusercontent.com/DaniloIto/TCC530_Univesp/main/Ipea-Area-Estados/ipeadata%5B02-05-2023-10-11%5D.csv'\n",
        "\n",
        "# Criando dataframe a partir de arquivo CSV\n",
        "# Carrega base de dados do google drive em arquivo CSV, separado por \";\", ignorando a primeira linha que contém somente o nome da tabela e importando até a coluna 4\n",
        "df_ae = pd.read_csv(url, sep=\";\", skiprows=1, usecols=[0,1,2,7], decimal=',')\n",
        "\n",
        "# Mudar nome da coluna \n",
        "df_ae.rename(columns={'2022': 'AreaE2022'}, inplace=True)\n",
        "\n",
        "# Explorando os 10 primeiros registros\n",
        "df_ae.head(5)"
      ],
      "metadata": {
        "colab": {
          "base_uri": "https://localhost:8080/",
          "height": 206
        },
        "id": "tTUOkT6x_D1a",
        "outputId": "e6c6f12e-736a-4339-d49f-a5f5c4020ffd"
      },
      "execution_count": 18,
      "outputs": [
        {
          "output_type": "execute_result",
          "data": {
            "text/plain": [
              "  Sigla  Código    Estado    AreaE2022\n",
              "0    AC      12      Acre   164173.431\n",
              "1    AL      27   Alagoas    27830.657\n",
              "2    AM      13  Amazonas  1559255.883\n",
              "3    AP      16     Amapá   142470.762\n",
              "4    BA      29     Bahia   564760.426"
            ],
            "text/html": [
              "\n",
              "  <div id=\"df-37ba6584-536c-429f-b148-8d2d62a5ed60\">\n",
              "    <div class=\"colab-df-container\">\n",
              "      <div>\n",
              "<style scoped>\n",
              "    .dataframe tbody tr th:only-of-type {\n",
              "        vertical-align: middle;\n",
              "    }\n",
              "\n",
              "    .dataframe tbody tr th {\n",
              "        vertical-align: top;\n",
              "    }\n",
              "\n",
              "    .dataframe thead th {\n",
              "        text-align: right;\n",
              "    }\n",
              "</style>\n",
              "<table border=\"1\" class=\"dataframe\">\n",
              "  <thead>\n",
              "    <tr style=\"text-align: right;\">\n",
              "      <th></th>\n",
              "      <th>Sigla</th>\n",
              "      <th>Código</th>\n",
              "      <th>Estado</th>\n",
              "      <th>AreaE2022</th>\n",
              "    </tr>\n",
              "  </thead>\n",
              "  <tbody>\n",
              "    <tr>\n",
              "      <th>0</th>\n",
              "      <td>AC</td>\n",
              "      <td>12</td>\n",
              "      <td>Acre</td>\n",
              "      <td>164173.431</td>\n",
              "    </tr>\n",
              "    <tr>\n",
              "      <th>1</th>\n",
              "      <td>AL</td>\n",
              "      <td>27</td>\n",
              "      <td>Alagoas</td>\n",
              "      <td>27830.657</td>\n",
              "    </tr>\n",
              "    <tr>\n",
              "      <th>2</th>\n",
              "      <td>AM</td>\n",
              "      <td>13</td>\n",
              "      <td>Amazonas</td>\n",
              "      <td>1559255.883</td>\n",
              "    </tr>\n",
              "    <tr>\n",
              "      <th>3</th>\n",
              "      <td>AP</td>\n",
              "      <td>16</td>\n",
              "      <td>Amapá</td>\n",
              "      <td>142470.762</td>\n",
              "    </tr>\n",
              "    <tr>\n",
              "      <th>4</th>\n",
              "      <td>BA</td>\n",
              "      <td>29</td>\n",
              "      <td>Bahia</td>\n",
              "      <td>564760.426</td>\n",
              "    </tr>\n",
              "  </tbody>\n",
              "</table>\n",
              "</div>\n",
              "      <button class=\"colab-df-convert\" onclick=\"convertToInteractive('df-37ba6584-536c-429f-b148-8d2d62a5ed60')\"\n",
              "              title=\"Convert this dataframe to an interactive table.\"\n",
              "              style=\"display:none;\">\n",
              "        \n",
              "  <svg xmlns=\"http://www.w3.org/2000/svg\" height=\"24px\"viewBox=\"0 0 24 24\"\n",
              "       width=\"24px\">\n",
              "    <path d=\"M0 0h24v24H0V0z\" fill=\"none\"/>\n",
              "    <path d=\"M18.56 5.44l.94 2.06.94-2.06 2.06-.94-2.06-.94-.94-2.06-.94 2.06-2.06.94zm-11 1L8.5 8.5l.94-2.06 2.06-.94-2.06-.94L8.5 2.5l-.94 2.06-2.06.94zm10 10l.94 2.06.94-2.06 2.06-.94-2.06-.94-.94-2.06-.94 2.06-2.06.94z\"/><path d=\"M17.41 7.96l-1.37-1.37c-.4-.4-.92-.59-1.43-.59-.52 0-1.04.2-1.43.59L10.3 9.45l-7.72 7.72c-.78.78-.78 2.05 0 2.83L4 21.41c.39.39.9.59 1.41.59.51 0 1.02-.2 1.41-.59l7.78-7.78 2.81-2.81c.8-.78.8-2.07 0-2.86zM5.41 20L4 18.59l7.72-7.72 1.47 1.35L5.41 20z\"/>\n",
              "  </svg>\n",
              "      </button>\n",
              "      \n",
              "  <style>\n",
              "    .colab-df-container {\n",
              "      display:flex;\n",
              "      flex-wrap:wrap;\n",
              "      gap: 12px;\n",
              "    }\n",
              "\n",
              "    .colab-df-convert {\n",
              "      background-color: #E8F0FE;\n",
              "      border: none;\n",
              "      border-radius: 50%;\n",
              "      cursor: pointer;\n",
              "      display: none;\n",
              "      fill: #1967D2;\n",
              "      height: 32px;\n",
              "      padding: 0 0 0 0;\n",
              "      width: 32px;\n",
              "    }\n",
              "\n",
              "    .colab-df-convert:hover {\n",
              "      background-color: #E2EBFA;\n",
              "      box-shadow: 0px 1px 2px rgba(60, 64, 67, 0.3), 0px 1px 3px 1px rgba(60, 64, 67, 0.15);\n",
              "      fill: #174EA6;\n",
              "    }\n",
              "\n",
              "    [theme=dark] .colab-df-convert {\n",
              "      background-color: #3B4455;\n",
              "      fill: #D2E3FC;\n",
              "    }\n",
              "\n",
              "    [theme=dark] .colab-df-convert:hover {\n",
              "      background-color: #434B5C;\n",
              "      box-shadow: 0px 1px 3px 1px rgba(0, 0, 0, 0.15);\n",
              "      filter: drop-shadow(0px 1px 2px rgba(0, 0, 0, 0.3));\n",
              "      fill: #FFFFFF;\n",
              "    }\n",
              "  </style>\n",
              "\n",
              "      <script>\n",
              "        const buttonEl =\n",
              "          document.querySelector('#df-37ba6584-536c-429f-b148-8d2d62a5ed60 button.colab-df-convert');\n",
              "        buttonEl.style.display =\n",
              "          google.colab.kernel.accessAllowed ? 'block' : 'none';\n",
              "\n",
              "        async function convertToInteractive(key) {\n",
              "          const element = document.querySelector('#df-37ba6584-536c-429f-b148-8d2d62a5ed60');\n",
              "          const dataTable =\n",
              "            await google.colab.kernel.invokeFunction('convertToInteractive',\n",
              "                                                     [key], {});\n",
              "          if (!dataTable) return;\n",
              "\n",
              "          const docLinkHtml = 'Like what you see? Visit the ' +\n",
              "            '<a target=\"_blank\" href=https://colab.research.google.com/notebooks/data_table.ipynb>data table notebook</a>'\n",
              "            + ' to learn more about interactive tables.';\n",
              "          element.innerHTML = '';\n",
              "          dataTable['output_type'] = 'display_data';\n",
              "          await google.colab.output.renderOutput(dataTable, element);\n",
              "          const docLink = document.createElement('div');\n",
              "          docLink.innerHTML = docLinkHtml;\n",
              "          element.appendChild(docLink);\n",
              "        }\n",
              "      </script>\n",
              "    </div>\n",
              "  </div>\n",
              "  "
            ]
          },
          "metadata": {},
          "execution_count": 18
        }
      ]
    },
    {
      "cell_type": "code",
      "source": [
        "df_ae.shape"
      ],
      "metadata": {
        "colab": {
          "base_uri": "https://localhost:8080/"
        },
        "id": "kZ3-C-7Iw5qq",
        "outputId": "21ce31d1-ebc2-42c6-b981-dcbf556b8cca"
      },
      "execution_count": 19,
      "outputs": [
        {
          "output_type": "execute_result",
          "data": {
            "text/plain": [
              "(27, 4)"
            ]
          },
          "metadata": {},
          "execution_count": 19
        }
      ]
    },
    {
      "cell_type": "markdown",
      "source": [
        "### 7 - DADOS IPEA - ALTITUDE MUNICIPAL (m)"
      ],
      "metadata": {
        "id": "f06tmzGw_eor"
      }
    },
    {
      "cell_type": "code",
      "source": [
        "url = 'https://raw.githubusercontent.com/DaniloIto/TCC530_Univesp/main/Ipea-Altitude_mun-1998/ipeadata%5B02-05-2023-10-09%5D.csv'\n",
        "\n",
        "# Criando dataframe a partir de arquivo CSV\n",
        "# Carrega base de dados do google drive em arquivo CSV, separado por \";\", ignorando a primeira linha que contém somente o nome da tabela e importando até a coluna 4\n",
        "df_hm = pd.read_csv(url, sep=\";\", skiprows=1, usecols=[0,1,2,3])\n",
        "\n",
        "# Mudar nome da coluna\n",
        "df_hm.rename(columns={'1998': 'Altitude1998'}, inplace=True)\n",
        "\n",
        "# Explorando os 10 primeiros registros\n",
        "df_hm.head(5)"
      ],
      "metadata": {
        "colab": {
          "base_uri": "https://localhost:8080/",
          "height": 0
        },
        "id": "YerOLqRt_dhp",
        "outputId": "6b982519-22d6-4ace-a949-9666de1c9dc0"
      },
      "execution_count": 20,
      "outputs": [
        {
          "output_type": "execute_result",
          "data": {
            "text/plain": [
              "  Sigla   Código     Município  Altitude1998\n",
              "0    AC  1200013    Acrelândia          25.0\n",
              "1    AC  1200054  Assis Brasil         239.0\n",
              "2    AC  1200104     Brasiléia         172.0\n",
              "3    AC  1200138        Bujari          50.0\n",
              "4    AC  1200179      Capixaba          40.0"
            ],
            "text/html": [
              "\n",
              "  <div id=\"df-c9a8ffc8-e778-4456-8d36-faf4dea1b981\">\n",
              "    <div class=\"colab-df-container\">\n",
              "      <div>\n",
              "<style scoped>\n",
              "    .dataframe tbody tr th:only-of-type {\n",
              "        vertical-align: middle;\n",
              "    }\n",
              "\n",
              "    .dataframe tbody tr th {\n",
              "        vertical-align: top;\n",
              "    }\n",
              "\n",
              "    .dataframe thead th {\n",
              "        text-align: right;\n",
              "    }\n",
              "</style>\n",
              "<table border=\"1\" class=\"dataframe\">\n",
              "  <thead>\n",
              "    <tr style=\"text-align: right;\">\n",
              "      <th></th>\n",
              "      <th>Sigla</th>\n",
              "      <th>Código</th>\n",
              "      <th>Município</th>\n",
              "      <th>Altitude1998</th>\n",
              "    </tr>\n",
              "  </thead>\n",
              "  <tbody>\n",
              "    <tr>\n",
              "      <th>0</th>\n",
              "      <td>AC</td>\n",
              "      <td>1200013</td>\n",
              "      <td>Acrelândia</td>\n",
              "      <td>25.0</td>\n",
              "    </tr>\n",
              "    <tr>\n",
              "      <th>1</th>\n",
              "      <td>AC</td>\n",
              "      <td>1200054</td>\n",
              "      <td>Assis Brasil</td>\n",
              "      <td>239.0</td>\n",
              "    </tr>\n",
              "    <tr>\n",
              "      <th>2</th>\n",
              "      <td>AC</td>\n",
              "      <td>1200104</td>\n",
              "      <td>Brasiléia</td>\n",
              "      <td>172.0</td>\n",
              "    </tr>\n",
              "    <tr>\n",
              "      <th>3</th>\n",
              "      <td>AC</td>\n",
              "      <td>1200138</td>\n",
              "      <td>Bujari</td>\n",
              "      <td>50.0</td>\n",
              "    </tr>\n",
              "    <tr>\n",
              "      <th>4</th>\n",
              "      <td>AC</td>\n",
              "      <td>1200179</td>\n",
              "      <td>Capixaba</td>\n",
              "      <td>40.0</td>\n",
              "    </tr>\n",
              "  </tbody>\n",
              "</table>\n",
              "</div>\n",
              "      <button class=\"colab-df-convert\" onclick=\"convertToInteractive('df-c9a8ffc8-e778-4456-8d36-faf4dea1b981')\"\n",
              "              title=\"Convert this dataframe to an interactive table.\"\n",
              "              style=\"display:none;\">\n",
              "        \n",
              "  <svg xmlns=\"http://www.w3.org/2000/svg\" height=\"24px\"viewBox=\"0 0 24 24\"\n",
              "       width=\"24px\">\n",
              "    <path d=\"M0 0h24v24H0V0z\" fill=\"none\"/>\n",
              "    <path d=\"M18.56 5.44l.94 2.06.94-2.06 2.06-.94-2.06-.94-.94-2.06-.94 2.06-2.06.94zm-11 1L8.5 8.5l.94-2.06 2.06-.94-2.06-.94L8.5 2.5l-.94 2.06-2.06.94zm10 10l.94 2.06.94-2.06 2.06-.94-2.06-.94-.94-2.06-.94 2.06-2.06.94z\"/><path d=\"M17.41 7.96l-1.37-1.37c-.4-.4-.92-.59-1.43-.59-.52 0-1.04.2-1.43.59L10.3 9.45l-7.72 7.72c-.78.78-.78 2.05 0 2.83L4 21.41c.39.39.9.59 1.41.59.51 0 1.02-.2 1.41-.59l7.78-7.78 2.81-2.81c.8-.78.8-2.07 0-2.86zM5.41 20L4 18.59l7.72-7.72 1.47 1.35L5.41 20z\"/>\n",
              "  </svg>\n",
              "      </button>\n",
              "      \n",
              "  <style>\n",
              "    .colab-df-container {\n",
              "      display:flex;\n",
              "      flex-wrap:wrap;\n",
              "      gap: 12px;\n",
              "    }\n",
              "\n",
              "    .colab-df-convert {\n",
              "      background-color: #E8F0FE;\n",
              "      border: none;\n",
              "      border-radius: 50%;\n",
              "      cursor: pointer;\n",
              "      display: none;\n",
              "      fill: #1967D2;\n",
              "      height: 32px;\n",
              "      padding: 0 0 0 0;\n",
              "      width: 32px;\n",
              "    }\n",
              "\n",
              "    .colab-df-convert:hover {\n",
              "      background-color: #E2EBFA;\n",
              "      box-shadow: 0px 1px 2px rgba(60, 64, 67, 0.3), 0px 1px 3px 1px rgba(60, 64, 67, 0.15);\n",
              "      fill: #174EA6;\n",
              "    }\n",
              "\n",
              "    [theme=dark] .colab-df-convert {\n",
              "      background-color: #3B4455;\n",
              "      fill: #D2E3FC;\n",
              "    }\n",
              "\n",
              "    [theme=dark] .colab-df-convert:hover {\n",
              "      background-color: #434B5C;\n",
              "      box-shadow: 0px 1px 3px 1px rgba(0, 0, 0, 0.15);\n",
              "      filter: drop-shadow(0px 1px 2px rgba(0, 0, 0, 0.3));\n",
              "      fill: #FFFFFF;\n",
              "    }\n",
              "  </style>\n",
              "\n",
              "      <script>\n",
              "        const buttonEl =\n",
              "          document.querySelector('#df-c9a8ffc8-e778-4456-8d36-faf4dea1b981 button.colab-df-convert');\n",
              "        buttonEl.style.display =\n",
              "          google.colab.kernel.accessAllowed ? 'block' : 'none';\n",
              "\n",
              "        async function convertToInteractive(key) {\n",
              "          const element = document.querySelector('#df-c9a8ffc8-e778-4456-8d36-faf4dea1b981');\n",
              "          const dataTable =\n",
              "            await google.colab.kernel.invokeFunction('convertToInteractive',\n",
              "                                                     [key], {});\n",
              "          if (!dataTable) return;\n",
              "\n",
              "          const docLinkHtml = 'Like what you see? Visit the ' +\n",
              "            '<a target=\"_blank\" href=https://colab.research.google.com/notebooks/data_table.ipynb>data table notebook</a>'\n",
              "            + ' to learn more about interactive tables.';\n",
              "          element.innerHTML = '';\n",
              "          dataTable['output_type'] = 'display_data';\n",
              "          await google.colab.output.renderOutput(dataTable, element);\n",
              "          const docLink = document.createElement('div');\n",
              "          docLink.innerHTML = docLinkHtml;\n",
              "          element.appendChild(docLink);\n",
              "        }\n",
              "      </script>\n",
              "    </div>\n",
              "  </div>\n",
              "  "
            ]
          },
          "metadata": {},
          "execution_count": 20
        }
      ]
    },
    {
      "cell_type": "code",
      "source": [
        "df_hm.shape"
      ],
      "metadata": {
        "colab": {
          "base_uri": "https://localhost:8080/"
        },
        "id": "H1c5FNzSw_2P",
        "outputId": "ab6b37bb-3ee6-47f5-e0b1-1e31be0f70ec"
      },
      "execution_count": 21,
      "outputs": [
        {
          "output_type": "execute_result",
          "data": {
            "text/plain": [
              "(5596, 4)"
            ]
          },
          "metadata": {},
          "execution_count": 21
        }
      ]
    },
    {
      "cell_type": "markdown",
      "source": [
        "### 8 - DADOS IPEA - LATITUDE MUNICIPAL"
      ],
      "metadata": {
        "id": "WV91KPFWA74A"
      }
    },
    {
      "cell_type": "code",
      "source": [
        "url = 'https://raw.githubusercontent.com/DaniloIto/TCC530_Univesp/main/Ipea-LatLon_mun_1998/ipeadata%5B02-05-2023-10-17%5D.csv'\n",
        "\n",
        "# Criando dataframe a partir de arquivo CSV\n",
        "# Carrega base de dados do google drive em arquivo CSV, separado por \";\", ignorando a primeira linha que contém somente o nome da tabela e importando até a coluna 4\n",
        "df_ltm = pd.read_csv(url, sep=\";\", skiprows=1, usecols=[0,1,2,3], decimal=',')\n",
        "\n",
        "# Mudar nome da coluna\n",
        "df_ltm.rename(columns={'1998': 'Lat'}, inplace=True)\n",
        "\n",
        "# Explorando os 10 primeiros registros\n",
        "df_ltm.head(5)"
      ],
      "metadata": {
        "colab": {
          "base_uri": "https://localhost:8080/",
          "height": 206
        },
        "id": "ojJMZUblA7j0",
        "outputId": "62f17929-b1ab-44a5-f809-6f11dfadd6f2"
      },
      "execution_count": 22,
      "outputs": [
        {
          "output_type": "execute_result",
          "data": {
            "text/plain": [
              "  Sigla   Código     Município        Lat\n",
              "0    AC  1200013    Acrelândia  -9.827778\n",
              "1    AC  1200054  Assis Brasil -10.941389\n",
              "2    AC  1200104     Brasiléia -11.016111\n",
              "3    AC  1200138        Bujari  -9.830556\n",
              "4    AC  1200179      Capixaba -10.572778"
            ],
            "text/html": [
              "\n",
              "  <div id=\"df-1e880213-0399-47b8-a364-fdeb4e5dd18c\">\n",
              "    <div class=\"colab-df-container\">\n",
              "      <div>\n",
              "<style scoped>\n",
              "    .dataframe tbody tr th:only-of-type {\n",
              "        vertical-align: middle;\n",
              "    }\n",
              "\n",
              "    .dataframe tbody tr th {\n",
              "        vertical-align: top;\n",
              "    }\n",
              "\n",
              "    .dataframe thead th {\n",
              "        text-align: right;\n",
              "    }\n",
              "</style>\n",
              "<table border=\"1\" class=\"dataframe\">\n",
              "  <thead>\n",
              "    <tr style=\"text-align: right;\">\n",
              "      <th></th>\n",
              "      <th>Sigla</th>\n",
              "      <th>Código</th>\n",
              "      <th>Município</th>\n",
              "      <th>Lat</th>\n",
              "    </tr>\n",
              "  </thead>\n",
              "  <tbody>\n",
              "    <tr>\n",
              "      <th>0</th>\n",
              "      <td>AC</td>\n",
              "      <td>1200013</td>\n",
              "      <td>Acrelândia</td>\n",
              "      <td>-9.827778</td>\n",
              "    </tr>\n",
              "    <tr>\n",
              "      <th>1</th>\n",
              "      <td>AC</td>\n",
              "      <td>1200054</td>\n",
              "      <td>Assis Brasil</td>\n",
              "      <td>-10.941389</td>\n",
              "    </tr>\n",
              "    <tr>\n",
              "      <th>2</th>\n",
              "      <td>AC</td>\n",
              "      <td>1200104</td>\n",
              "      <td>Brasiléia</td>\n",
              "      <td>-11.016111</td>\n",
              "    </tr>\n",
              "    <tr>\n",
              "      <th>3</th>\n",
              "      <td>AC</td>\n",
              "      <td>1200138</td>\n",
              "      <td>Bujari</td>\n",
              "      <td>-9.830556</td>\n",
              "    </tr>\n",
              "    <tr>\n",
              "      <th>4</th>\n",
              "      <td>AC</td>\n",
              "      <td>1200179</td>\n",
              "      <td>Capixaba</td>\n",
              "      <td>-10.572778</td>\n",
              "    </tr>\n",
              "  </tbody>\n",
              "</table>\n",
              "</div>\n",
              "      <button class=\"colab-df-convert\" onclick=\"convertToInteractive('df-1e880213-0399-47b8-a364-fdeb4e5dd18c')\"\n",
              "              title=\"Convert this dataframe to an interactive table.\"\n",
              "              style=\"display:none;\">\n",
              "        \n",
              "  <svg xmlns=\"http://www.w3.org/2000/svg\" height=\"24px\"viewBox=\"0 0 24 24\"\n",
              "       width=\"24px\">\n",
              "    <path d=\"M0 0h24v24H0V0z\" fill=\"none\"/>\n",
              "    <path d=\"M18.56 5.44l.94 2.06.94-2.06 2.06-.94-2.06-.94-.94-2.06-.94 2.06-2.06.94zm-11 1L8.5 8.5l.94-2.06 2.06-.94-2.06-.94L8.5 2.5l-.94 2.06-2.06.94zm10 10l.94 2.06.94-2.06 2.06-.94-2.06-.94-.94-2.06-.94 2.06-2.06.94z\"/><path d=\"M17.41 7.96l-1.37-1.37c-.4-.4-.92-.59-1.43-.59-.52 0-1.04.2-1.43.59L10.3 9.45l-7.72 7.72c-.78.78-.78 2.05 0 2.83L4 21.41c.39.39.9.59 1.41.59.51 0 1.02-.2 1.41-.59l7.78-7.78 2.81-2.81c.8-.78.8-2.07 0-2.86zM5.41 20L4 18.59l7.72-7.72 1.47 1.35L5.41 20z\"/>\n",
              "  </svg>\n",
              "      </button>\n",
              "      \n",
              "  <style>\n",
              "    .colab-df-container {\n",
              "      display:flex;\n",
              "      flex-wrap:wrap;\n",
              "      gap: 12px;\n",
              "    }\n",
              "\n",
              "    .colab-df-convert {\n",
              "      background-color: #E8F0FE;\n",
              "      border: none;\n",
              "      border-radius: 50%;\n",
              "      cursor: pointer;\n",
              "      display: none;\n",
              "      fill: #1967D2;\n",
              "      height: 32px;\n",
              "      padding: 0 0 0 0;\n",
              "      width: 32px;\n",
              "    }\n",
              "\n",
              "    .colab-df-convert:hover {\n",
              "      background-color: #E2EBFA;\n",
              "      box-shadow: 0px 1px 2px rgba(60, 64, 67, 0.3), 0px 1px 3px 1px rgba(60, 64, 67, 0.15);\n",
              "      fill: #174EA6;\n",
              "    }\n",
              "\n",
              "    [theme=dark] .colab-df-convert {\n",
              "      background-color: #3B4455;\n",
              "      fill: #D2E3FC;\n",
              "    }\n",
              "\n",
              "    [theme=dark] .colab-df-convert:hover {\n",
              "      background-color: #434B5C;\n",
              "      box-shadow: 0px 1px 3px 1px rgba(0, 0, 0, 0.15);\n",
              "      filter: drop-shadow(0px 1px 2px rgba(0, 0, 0, 0.3));\n",
              "      fill: #FFFFFF;\n",
              "    }\n",
              "  </style>\n",
              "\n",
              "      <script>\n",
              "        const buttonEl =\n",
              "          document.querySelector('#df-1e880213-0399-47b8-a364-fdeb4e5dd18c button.colab-df-convert');\n",
              "        buttonEl.style.display =\n",
              "          google.colab.kernel.accessAllowed ? 'block' : 'none';\n",
              "\n",
              "        async function convertToInteractive(key) {\n",
              "          const element = document.querySelector('#df-1e880213-0399-47b8-a364-fdeb4e5dd18c');\n",
              "          const dataTable =\n",
              "            await google.colab.kernel.invokeFunction('convertToInteractive',\n",
              "                                                     [key], {});\n",
              "          if (!dataTable) return;\n",
              "\n",
              "          const docLinkHtml = 'Like what you see? Visit the ' +\n",
              "            '<a target=\"_blank\" href=https://colab.research.google.com/notebooks/data_table.ipynb>data table notebook</a>'\n",
              "            + ' to learn more about interactive tables.';\n",
              "          element.innerHTML = '';\n",
              "          dataTable['output_type'] = 'display_data';\n",
              "          await google.colab.output.renderOutput(dataTable, element);\n",
              "          const docLink = document.createElement('div');\n",
              "          docLink.innerHTML = docLinkHtml;\n",
              "          element.appendChild(docLink);\n",
              "        }\n",
              "      </script>\n",
              "    </div>\n",
              "  </div>\n",
              "  "
            ]
          },
          "metadata": {},
          "execution_count": 22
        }
      ]
    },
    {
      "cell_type": "code",
      "source": [
        "df_ltm.shape"
      ],
      "metadata": {
        "colab": {
          "base_uri": "https://localhost:8080/"
        },
        "id": "yNzzy0Y0xDiO",
        "outputId": "45728fe3-b616-4122-c1b9-6c3483b20da4"
      },
      "execution_count": 23,
      "outputs": [
        {
          "output_type": "execute_result",
          "data": {
            "text/plain": [
              "(5596, 4)"
            ]
          },
          "metadata": {},
          "execution_count": 23
        }
      ]
    },
    {
      "cell_type": "markdown",
      "source": [
        "### 9 - DADOS IPEA - LONGITUDE MUNICIPAL"
      ],
      "metadata": {
        "id": "6s-pWlgdA8df"
      }
    },
    {
      "cell_type": "code",
      "source": [
        "url = 'https://raw.githubusercontent.com/DaniloIto/TCC530_Univesp/main/Ipea-LatLon_mun_1998/ipeadata%5B02-05-2023-10-18%5D.csv'\n",
        "\n",
        "# Criando dataframe a partir de arquivo CSV\n",
        "# Carrega base de dados do google drive em arquivo CSV, separado por \";\", ignorando a primeira linha que contém somente o nome da tabela e importando até a coluna 4\n",
        "df_lgm = pd.read_csv(url, sep=\";\", skiprows=1, usecols=[0,1,2,3], decimal=',')\n",
        "\n",
        "# Mudar nome da coluna\n",
        "df_lgm.rename(columns={'1998': 'Long'}, inplace=True)\n",
        "\n",
        "#coordenadas longitude estão positivas precisa ser convertivo para negativo\n",
        "df_lgm['Long'] = df_lgm['Long']*(-1)\n",
        "\n",
        "# Explorando os 10 primeiros registros\n",
        "df_lgm.head(5)"
      ],
      "metadata": {
        "colab": {
          "base_uri": "https://localhost:8080/",
          "height": 206
        },
        "id": "6heaUzwQA8Pj",
        "outputId": "294d26b3-8e64-41ea-9c89-c81741fb82d7"
      },
      "execution_count": 24,
      "outputs": [
        {
          "output_type": "execute_result",
          "data": {
            "text/plain": [
              "  Sigla   Código     Município       Long\n",
              "0    AC  1200013    Acrelândia -66.883333\n",
              "1    AC  1200054  Assis Brasil -69.566944\n",
              "2    AC  1200104     Brasiléia -68.748056\n",
              "3    AC  1200138        Bujari -67.952222\n",
              "4    AC  1200179      Capixaba -67.675556"
            ],
            "text/html": [
              "\n",
              "  <div id=\"df-0c8a7c99-8f7f-407c-8dbb-52e71c5d3827\">\n",
              "    <div class=\"colab-df-container\">\n",
              "      <div>\n",
              "<style scoped>\n",
              "    .dataframe tbody tr th:only-of-type {\n",
              "        vertical-align: middle;\n",
              "    }\n",
              "\n",
              "    .dataframe tbody tr th {\n",
              "        vertical-align: top;\n",
              "    }\n",
              "\n",
              "    .dataframe thead th {\n",
              "        text-align: right;\n",
              "    }\n",
              "</style>\n",
              "<table border=\"1\" class=\"dataframe\">\n",
              "  <thead>\n",
              "    <tr style=\"text-align: right;\">\n",
              "      <th></th>\n",
              "      <th>Sigla</th>\n",
              "      <th>Código</th>\n",
              "      <th>Município</th>\n",
              "      <th>Long</th>\n",
              "    </tr>\n",
              "  </thead>\n",
              "  <tbody>\n",
              "    <tr>\n",
              "      <th>0</th>\n",
              "      <td>AC</td>\n",
              "      <td>1200013</td>\n",
              "      <td>Acrelândia</td>\n",
              "      <td>-66.883333</td>\n",
              "    </tr>\n",
              "    <tr>\n",
              "      <th>1</th>\n",
              "      <td>AC</td>\n",
              "      <td>1200054</td>\n",
              "      <td>Assis Brasil</td>\n",
              "      <td>-69.566944</td>\n",
              "    </tr>\n",
              "    <tr>\n",
              "      <th>2</th>\n",
              "      <td>AC</td>\n",
              "      <td>1200104</td>\n",
              "      <td>Brasiléia</td>\n",
              "      <td>-68.748056</td>\n",
              "    </tr>\n",
              "    <tr>\n",
              "      <th>3</th>\n",
              "      <td>AC</td>\n",
              "      <td>1200138</td>\n",
              "      <td>Bujari</td>\n",
              "      <td>-67.952222</td>\n",
              "    </tr>\n",
              "    <tr>\n",
              "      <th>4</th>\n",
              "      <td>AC</td>\n",
              "      <td>1200179</td>\n",
              "      <td>Capixaba</td>\n",
              "      <td>-67.675556</td>\n",
              "    </tr>\n",
              "  </tbody>\n",
              "</table>\n",
              "</div>\n",
              "      <button class=\"colab-df-convert\" onclick=\"convertToInteractive('df-0c8a7c99-8f7f-407c-8dbb-52e71c5d3827')\"\n",
              "              title=\"Convert this dataframe to an interactive table.\"\n",
              "              style=\"display:none;\">\n",
              "        \n",
              "  <svg xmlns=\"http://www.w3.org/2000/svg\" height=\"24px\"viewBox=\"0 0 24 24\"\n",
              "       width=\"24px\">\n",
              "    <path d=\"M0 0h24v24H0V0z\" fill=\"none\"/>\n",
              "    <path d=\"M18.56 5.44l.94 2.06.94-2.06 2.06-.94-2.06-.94-.94-2.06-.94 2.06-2.06.94zm-11 1L8.5 8.5l.94-2.06 2.06-.94-2.06-.94L8.5 2.5l-.94 2.06-2.06.94zm10 10l.94 2.06.94-2.06 2.06-.94-2.06-.94-.94-2.06-.94 2.06-2.06.94z\"/><path d=\"M17.41 7.96l-1.37-1.37c-.4-.4-.92-.59-1.43-.59-.52 0-1.04.2-1.43.59L10.3 9.45l-7.72 7.72c-.78.78-.78 2.05 0 2.83L4 21.41c.39.39.9.59 1.41.59.51 0 1.02-.2 1.41-.59l7.78-7.78 2.81-2.81c.8-.78.8-2.07 0-2.86zM5.41 20L4 18.59l7.72-7.72 1.47 1.35L5.41 20z\"/>\n",
              "  </svg>\n",
              "      </button>\n",
              "      \n",
              "  <style>\n",
              "    .colab-df-container {\n",
              "      display:flex;\n",
              "      flex-wrap:wrap;\n",
              "      gap: 12px;\n",
              "    }\n",
              "\n",
              "    .colab-df-convert {\n",
              "      background-color: #E8F0FE;\n",
              "      border: none;\n",
              "      border-radius: 50%;\n",
              "      cursor: pointer;\n",
              "      display: none;\n",
              "      fill: #1967D2;\n",
              "      height: 32px;\n",
              "      padding: 0 0 0 0;\n",
              "      width: 32px;\n",
              "    }\n",
              "\n",
              "    .colab-df-convert:hover {\n",
              "      background-color: #E2EBFA;\n",
              "      box-shadow: 0px 1px 2px rgba(60, 64, 67, 0.3), 0px 1px 3px 1px rgba(60, 64, 67, 0.15);\n",
              "      fill: #174EA6;\n",
              "    }\n",
              "\n",
              "    [theme=dark] .colab-df-convert {\n",
              "      background-color: #3B4455;\n",
              "      fill: #D2E3FC;\n",
              "    }\n",
              "\n",
              "    [theme=dark] .colab-df-convert:hover {\n",
              "      background-color: #434B5C;\n",
              "      box-shadow: 0px 1px 3px 1px rgba(0, 0, 0, 0.15);\n",
              "      filter: drop-shadow(0px 1px 2px rgba(0, 0, 0, 0.3));\n",
              "      fill: #FFFFFF;\n",
              "    }\n",
              "  </style>\n",
              "\n",
              "      <script>\n",
              "        const buttonEl =\n",
              "          document.querySelector('#df-0c8a7c99-8f7f-407c-8dbb-52e71c5d3827 button.colab-df-convert');\n",
              "        buttonEl.style.display =\n",
              "          google.colab.kernel.accessAllowed ? 'block' : 'none';\n",
              "\n",
              "        async function convertToInteractive(key) {\n",
              "          const element = document.querySelector('#df-0c8a7c99-8f7f-407c-8dbb-52e71c5d3827');\n",
              "          const dataTable =\n",
              "            await google.colab.kernel.invokeFunction('convertToInteractive',\n",
              "                                                     [key], {});\n",
              "          if (!dataTable) return;\n",
              "\n",
              "          const docLinkHtml = 'Like what you see? Visit the ' +\n",
              "            '<a target=\"_blank\" href=https://colab.research.google.com/notebooks/data_table.ipynb>data table notebook</a>'\n",
              "            + ' to learn more about interactive tables.';\n",
              "          element.innerHTML = '';\n",
              "          dataTable['output_type'] = 'display_data';\n",
              "          await google.colab.output.renderOutput(dataTable, element);\n",
              "          const docLink = document.createElement('div');\n",
              "          docLink.innerHTML = docLinkHtml;\n",
              "          element.appendChild(docLink);\n",
              "        }\n",
              "      </script>\n",
              "    </div>\n",
              "  </div>\n",
              "  "
            ]
          },
          "metadata": {},
          "execution_count": 24
        }
      ]
    },
    {
      "cell_type": "code",
      "source": [
        "df_lgm.shape"
      ],
      "metadata": {
        "colab": {
          "base_uri": "https://localhost:8080/"
        },
        "id": "KqSPtmC-xG9E",
        "outputId": "aac8147c-e16b-4e79-a78b-db28d3431a4b"
      },
      "execution_count": 25,
      "outputs": [
        {
          "output_type": "execute_result",
          "data": {
            "text/plain": [
              "(5596, 4)"
            ]
          },
          "metadata": {},
          "execution_count": 25
        }
      ]
    },
    {
      "cell_type": "markdown",
      "source": [
        "### 10 - DADOS IPEA - CONSUMO DE ENERGIA ELÉTRICA POR ESTADO (MWh)"
      ],
      "metadata": {
        "id": "AIKC0OeEB06L"
      }
    },
    {
      "cell_type": "code",
      "source": [
        "url = 'https://raw.githubusercontent.com/DaniloIto/TCC530_Univesp/main/Ipea-MME-Consumo%20de%20energia/ipeadata%5B02-05-2023-10-21%5D.csv'\n",
        "\n",
        "# Criando dataframe a partir de arquivo CSV\n",
        "# Carrega base de dados do google drive em arquivo CSV, separado por \";\", ignorando a primeira linha que contém somente o nome da tabela e importando até a coluna 4\n",
        "df_ee = pd.read_csv(url, sep=\";\", skiprows=1, usecols=[0,1,2,3,4,5,6,7], decimal=',')\n",
        "\n",
        "# Mudar nome da coluna\n",
        "df_ee.rename(columns={'2018': 'EE2018', '2019': 'EE2019', '2020': 'EE2020', '2021': 'EE2021', '2022': 'EE2022'}, inplace=True)\n",
        "\n",
        "# Explorando os 10 primeiros registros\n",
        "df_ee.head(10)"
      ],
      "metadata": {
        "colab": {
          "base_uri": "https://localhost:8080/",
          "height": 363
        },
        "id": "7aYDOZWAA8Th",
        "outputId": "11ab1d1c-bfd8-49e6-bb28-19132bed98d6"
      },
      "execution_count": 26,
      "outputs": [
        {
          "output_type": "execute_result",
          "data": {
            "text/plain": [
              "  Sigla  Código            Estado       EE2018        EE2019       EE2020  \\\n",
              "0    AC      12              Acre    978831.39  1.080238e+06   1095791.02   \n",
              "1    AL      27           Alagoas   4708728.22  3.875841e+06   3922231.60   \n",
              "2    AM      13          Amazonas   5966425.62  6.142169e+06   6215223.00   \n",
              "3    AP      16             Amapá   1053678.19  1.074207e+06   1031096.03   \n",
              "4    BA      29             Bahia  25092044.05  2.590812e+07  25050385.24   \n",
              "5    CE      23             Ceará  11265442.52  1.238026e+07  12063666.79   \n",
              "6    DF      53  Distrito Federal   6219665.08  6.281782e+06   6167639.89   \n",
              "7    ES      32    Espírito Santo  10199952.00  1.046290e+07   9853440.94   \n",
              "8    GO      52             Goiás  15639425.00  1.641805e+07  16525657.43   \n",
              "9    MA      21          Maranhão   7099230.93  7.510890e+06   7722801.72   \n",
              "\n",
              "        EE2021       EE2022  \n",
              "0   1094644.10   1143434.12  \n",
              "1   4708546.94   4970461.67  \n",
              "2   6284157.52   6713625.00  \n",
              "3   1140010.01   1126481.99  \n",
              "4  26227124.86  26243064.25  \n",
              "5  12846757.60  12893422.88  \n",
              "6   6407678.55   6510600.66  \n",
              "7  10417216.58  10726139.89  \n",
              "8  17239495.08  17763002.54  \n",
              "9   8146929.82   9612334.45  "
            ],
            "text/html": [
              "\n",
              "  <div id=\"df-161ac741-a46b-4c3b-89d8-554b24731b1f\">\n",
              "    <div class=\"colab-df-container\">\n",
              "      <div>\n",
              "<style scoped>\n",
              "    .dataframe tbody tr th:only-of-type {\n",
              "        vertical-align: middle;\n",
              "    }\n",
              "\n",
              "    .dataframe tbody tr th {\n",
              "        vertical-align: top;\n",
              "    }\n",
              "\n",
              "    .dataframe thead th {\n",
              "        text-align: right;\n",
              "    }\n",
              "</style>\n",
              "<table border=\"1\" class=\"dataframe\">\n",
              "  <thead>\n",
              "    <tr style=\"text-align: right;\">\n",
              "      <th></th>\n",
              "      <th>Sigla</th>\n",
              "      <th>Código</th>\n",
              "      <th>Estado</th>\n",
              "      <th>EE2018</th>\n",
              "      <th>EE2019</th>\n",
              "      <th>EE2020</th>\n",
              "      <th>EE2021</th>\n",
              "      <th>EE2022</th>\n",
              "    </tr>\n",
              "  </thead>\n",
              "  <tbody>\n",
              "    <tr>\n",
              "      <th>0</th>\n",
              "      <td>AC</td>\n",
              "      <td>12</td>\n",
              "      <td>Acre</td>\n",
              "      <td>978831.39</td>\n",
              "      <td>1.080238e+06</td>\n",
              "      <td>1095791.02</td>\n",
              "      <td>1094644.10</td>\n",
              "      <td>1143434.12</td>\n",
              "    </tr>\n",
              "    <tr>\n",
              "      <th>1</th>\n",
              "      <td>AL</td>\n",
              "      <td>27</td>\n",
              "      <td>Alagoas</td>\n",
              "      <td>4708728.22</td>\n",
              "      <td>3.875841e+06</td>\n",
              "      <td>3922231.60</td>\n",
              "      <td>4708546.94</td>\n",
              "      <td>4970461.67</td>\n",
              "    </tr>\n",
              "    <tr>\n",
              "      <th>2</th>\n",
              "      <td>AM</td>\n",
              "      <td>13</td>\n",
              "      <td>Amazonas</td>\n",
              "      <td>5966425.62</td>\n",
              "      <td>6.142169e+06</td>\n",
              "      <td>6215223.00</td>\n",
              "      <td>6284157.52</td>\n",
              "      <td>6713625.00</td>\n",
              "    </tr>\n",
              "    <tr>\n",
              "      <th>3</th>\n",
              "      <td>AP</td>\n",
              "      <td>16</td>\n",
              "      <td>Amapá</td>\n",
              "      <td>1053678.19</td>\n",
              "      <td>1.074207e+06</td>\n",
              "      <td>1031096.03</td>\n",
              "      <td>1140010.01</td>\n",
              "      <td>1126481.99</td>\n",
              "    </tr>\n",
              "    <tr>\n",
              "      <th>4</th>\n",
              "      <td>BA</td>\n",
              "      <td>29</td>\n",
              "      <td>Bahia</td>\n",
              "      <td>25092044.05</td>\n",
              "      <td>2.590812e+07</td>\n",
              "      <td>25050385.24</td>\n",
              "      <td>26227124.86</td>\n",
              "      <td>26243064.25</td>\n",
              "    </tr>\n",
              "    <tr>\n",
              "      <th>5</th>\n",
              "      <td>CE</td>\n",
              "      <td>23</td>\n",
              "      <td>Ceará</td>\n",
              "      <td>11265442.52</td>\n",
              "      <td>1.238026e+07</td>\n",
              "      <td>12063666.79</td>\n",
              "      <td>12846757.60</td>\n",
              "      <td>12893422.88</td>\n",
              "    </tr>\n",
              "    <tr>\n",
              "      <th>6</th>\n",
              "      <td>DF</td>\n",
              "      <td>53</td>\n",
              "      <td>Distrito Federal</td>\n",
              "      <td>6219665.08</td>\n",
              "      <td>6.281782e+06</td>\n",
              "      <td>6167639.89</td>\n",
              "      <td>6407678.55</td>\n",
              "      <td>6510600.66</td>\n",
              "    </tr>\n",
              "    <tr>\n",
              "      <th>7</th>\n",
              "      <td>ES</td>\n",
              "      <td>32</td>\n",
              "      <td>Espírito Santo</td>\n",
              "      <td>10199952.00</td>\n",
              "      <td>1.046290e+07</td>\n",
              "      <td>9853440.94</td>\n",
              "      <td>10417216.58</td>\n",
              "      <td>10726139.89</td>\n",
              "    </tr>\n",
              "    <tr>\n",
              "      <th>8</th>\n",
              "      <td>GO</td>\n",
              "      <td>52</td>\n",
              "      <td>Goiás</td>\n",
              "      <td>15639425.00</td>\n",
              "      <td>1.641805e+07</td>\n",
              "      <td>16525657.43</td>\n",
              "      <td>17239495.08</td>\n",
              "      <td>17763002.54</td>\n",
              "    </tr>\n",
              "    <tr>\n",
              "      <th>9</th>\n",
              "      <td>MA</td>\n",
              "      <td>21</td>\n",
              "      <td>Maranhão</td>\n",
              "      <td>7099230.93</td>\n",
              "      <td>7.510890e+06</td>\n",
              "      <td>7722801.72</td>\n",
              "      <td>8146929.82</td>\n",
              "      <td>9612334.45</td>\n",
              "    </tr>\n",
              "  </tbody>\n",
              "</table>\n",
              "</div>\n",
              "      <button class=\"colab-df-convert\" onclick=\"convertToInteractive('df-161ac741-a46b-4c3b-89d8-554b24731b1f')\"\n",
              "              title=\"Convert this dataframe to an interactive table.\"\n",
              "              style=\"display:none;\">\n",
              "        \n",
              "  <svg xmlns=\"http://www.w3.org/2000/svg\" height=\"24px\"viewBox=\"0 0 24 24\"\n",
              "       width=\"24px\">\n",
              "    <path d=\"M0 0h24v24H0V0z\" fill=\"none\"/>\n",
              "    <path d=\"M18.56 5.44l.94 2.06.94-2.06 2.06-.94-2.06-.94-.94-2.06-.94 2.06-2.06.94zm-11 1L8.5 8.5l.94-2.06 2.06-.94-2.06-.94L8.5 2.5l-.94 2.06-2.06.94zm10 10l.94 2.06.94-2.06 2.06-.94-2.06-.94-.94-2.06-.94 2.06-2.06.94z\"/><path d=\"M17.41 7.96l-1.37-1.37c-.4-.4-.92-.59-1.43-.59-.52 0-1.04.2-1.43.59L10.3 9.45l-7.72 7.72c-.78.78-.78 2.05 0 2.83L4 21.41c.39.39.9.59 1.41.59.51 0 1.02-.2 1.41-.59l7.78-7.78 2.81-2.81c.8-.78.8-2.07 0-2.86zM5.41 20L4 18.59l7.72-7.72 1.47 1.35L5.41 20z\"/>\n",
              "  </svg>\n",
              "      </button>\n",
              "      \n",
              "  <style>\n",
              "    .colab-df-container {\n",
              "      display:flex;\n",
              "      flex-wrap:wrap;\n",
              "      gap: 12px;\n",
              "    }\n",
              "\n",
              "    .colab-df-convert {\n",
              "      background-color: #E8F0FE;\n",
              "      border: none;\n",
              "      border-radius: 50%;\n",
              "      cursor: pointer;\n",
              "      display: none;\n",
              "      fill: #1967D2;\n",
              "      height: 32px;\n",
              "      padding: 0 0 0 0;\n",
              "      width: 32px;\n",
              "    }\n",
              "\n",
              "    .colab-df-convert:hover {\n",
              "      background-color: #E2EBFA;\n",
              "      box-shadow: 0px 1px 2px rgba(60, 64, 67, 0.3), 0px 1px 3px 1px rgba(60, 64, 67, 0.15);\n",
              "      fill: #174EA6;\n",
              "    }\n",
              "\n",
              "    [theme=dark] .colab-df-convert {\n",
              "      background-color: #3B4455;\n",
              "      fill: #D2E3FC;\n",
              "    }\n",
              "\n",
              "    [theme=dark] .colab-df-convert:hover {\n",
              "      background-color: #434B5C;\n",
              "      box-shadow: 0px 1px 3px 1px rgba(0, 0, 0, 0.15);\n",
              "      filter: drop-shadow(0px 1px 2px rgba(0, 0, 0, 0.3));\n",
              "      fill: #FFFFFF;\n",
              "    }\n",
              "  </style>\n",
              "\n",
              "      <script>\n",
              "        const buttonEl =\n",
              "          document.querySelector('#df-161ac741-a46b-4c3b-89d8-554b24731b1f button.colab-df-convert');\n",
              "        buttonEl.style.display =\n",
              "          google.colab.kernel.accessAllowed ? 'block' : 'none';\n",
              "\n",
              "        async function convertToInteractive(key) {\n",
              "          const element = document.querySelector('#df-161ac741-a46b-4c3b-89d8-554b24731b1f');\n",
              "          const dataTable =\n",
              "            await google.colab.kernel.invokeFunction('convertToInteractive',\n",
              "                                                     [key], {});\n",
              "          if (!dataTable) return;\n",
              "\n",
              "          const docLinkHtml = 'Like what you see? Visit the ' +\n",
              "            '<a target=\"_blank\" href=https://colab.research.google.com/notebooks/data_table.ipynb>data table notebook</a>'\n",
              "            + ' to learn more about interactive tables.';\n",
              "          element.innerHTML = '';\n",
              "          dataTable['output_type'] = 'display_data';\n",
              "          await google.colab.output.renderOutput(dataTable, element);\n",
              "          const docLink = document.createElement('div');\n",
              "          docLink.innerHTML = docLinkHtml;\n",
              "          element.appendChild(docLink);\n",
              "        }\n",
              "      </script>\n",
              "    </div>\n",
              "  </div>\n",
              "  "
            ]
          },
          "metadata": {},
          "execution_count": 26
        }
      ]
    },
    {
      "cell_type": "code",
      "source": [
        "df_ee.shape"
      ],
      "metadata": {
        "colab": {
          "base_uri": "https://localhost:8080/"
        },
        "id": "bbjXun3GxKJW",
        "outputId": "53b23d60-14e2-41ea-a04b-da9ad25f49c9"
      },
      "execution_count": 27,
      "outputs": [
        {
          "output_type": "execute_result",
          "data": {
            "text/plain": [
              "(27, 8)"
            ]
          },
          "metadata": {},
          "execution_count": 27
        }
      ]
    },
    {
      "cell_type": "markdown",
      "source": [
        "### 11 - IBGE - PIB DOS MUNICIPIOS 2010-2020\n",
        "*(Tamanho do arquivo maior que 35 MB. Não carrega no Github. Tentei utilizar o Selenium para localizar o link no IBGE mas não funcionou. Por equanto lendo o arquivo localmente.)*\n",
        "\n",
        "**Tabela possui 43 colunas - carregado somente as colunas 0, 3, 4, 5, 6, 7, 39**"
      ],
      "metadata": {
        "id": "-hpD3j5cNM0u"
      }
    },
    {
      "cell_type": "code",
      "source": [
        "url = 'https://raw.githubusercontent.com/DaniloIto/TCC530_Univesp/main/PIB%20Municipio%20CSV/PIB%20dos%20Munic%C3%ADpios%20-%20base%20de%20dados%202020.csv'\n",
        "\n",
        "# Criando dataframe a partir de arquivo XLS, selecionando somente as colunas necessárias\n",
        "df_pib = pd.read_csv(url, sep=\";\", usecols=[0,3,4,5,6,7,39], decimal=',')\n",
        "\n",
        "# Mudar nome da coluna\n",
        "df_pib.rename(columns={'Código da Unidade da Federação': 'CodUF',\n",
        "                       'Sigla da Unidade da Federação': 'SiglaUF', \n",
        "                       'Nome da Unidade da Federação': 'NomeUF',\n",
        "                       'Código do Município': 'CodMun',\n",
        "                       'Nome do Município': 'NomeMun',\n",
        "                       'Produto Interno Bruto per capita, \\na preços correntes\\n(R$ 1,00)': 'PIB_pcapita'},\n",
        "                       inplace=True)\n",
        "# Corrigindo o formato do PIB - arquivo veio como texto em formato de notação de virgula\n",
        "df_pib['PIB_pcapita']=df_pib['PIB_pcapita'].str.strip()\n",
        "df_pib['PIB_pcapita']=df_pib['PIB_pcapita'].str.replace('.','')\n",
        "df_pib['PIB_pcapita']=df_pib['PIB_pcapita'].str.replace(',','.')\n",
        "\n",
        "df_pib['PIB_pcapita']=df_pib['PIB_pcapita'].astype(float)\n",
        "\n",
        "df_pib.head(5) \n"
      ],
      "metadata": {
        "colab": {
          "base_uri": "https://localhost:8080/",
          "height": 263
        },
        "id": "QT7Qt3iLNMof",
        "outputId": "c629eaae-86d7-45e2-b5f8-d29ddb2b85c5"
      },
      "execution_count": 28,
      "outputs": [
        {
          "output_type": "stream",
          "name": "stderr",
          "text": [
            "<ipython-input-28-71479a92c7d4>:16: FutureWarning: The default value of regex will change from True to False in a future version. In addition, single character regular expressions will *not* be treated as literal strings when regex=True.\n",
            "  df_pib['PIB_pcapita']=df_pib['PIB_pcapita'].str.replace('.','')\n"
          ]
        },
        {
          "output_type": "execute_result",
          "data": {
            "text/plain": [
              "    Ano  CodUF SiglaUF    NomeUF   CodMun                NomeMun  PIB_pcapita\n",
              "0  2020     11      RO  Rondônia  1100015  Alta Floresta D'Oeste     25091.18\n",
              "1  2020     11      RO  Rondônia  1100023              Ariquemes     25730.20\n",
              "2  2020     11      RO  Rondônia  1100031                 Cabixi     32226.25\n",
              "3  2020     11      RO  Rondônia  1100049                 Cacoal     29331.29\n",
              "4  2020     11      RO  Rondônia  1100056             Cerejeiras     37069.25"
            ],
            "text/html": [
              "\n",
              "  <div id=\"df-ac001e22-f8f2-4d5d-83b6-03f12a3b2cb8\">\n",
              "    <div class=\"colab-df-container\">\n",
              "      <div>\n",
              "<style scoped>\n",
              "    .dataframe tbody tr th:only-of-type {\n",
              "        vertical-align: middle;\n",
              "    }\n",
              "\n",
              "    .dataframe tbody tr th {\n",
              "        vertical-align: top;\n",
              "    }\n",
              "\n",
              "    .dataframe thead th {\n",
              "        text-align: right;\n",
              "    }\n",
              "</style>\n",
              "<table border=\"1\" class=\"dataframe\">\n",
              "  <thead>\n",
              "    <tr style=\"text-align: right;\">\n",
              "      <th></th>\n",
              "      <th>Ano</th>\n",
              "      <th>CodUF</th>\n",
              "      <th>SiglaUF</th>\n",
              "      <th>NomeUF</th>\n",
              "      <th>CodMun</th>\n",
              "      <th>NomeMun</th>\n",
              "      <th>PIB_pcapita</th>\n",
              "    </tr>\n",
              "  </thead>\n",
              "  <tbody>\n",
              "    <tr>\n",
              "      <th>0</th>\n",
              "      <td>2020</td>\n",
              "      <td>11</td>\n",
              "      <td>RO</td>\n",
              "      <td>Rondônia</td>\n",
              "      <td>1100015</td>\n",
              "      <td>Alta Floresta D'Oeste</td>\n",
              "      <td>25091.18</td>\n",
              "    </tr>\n",
              "    <tr>\n",
              "      <th>1</th>\n",
              "      <td>2020</td>\n",
              "      <td>11</td>\n",
              "      <td>RO</td>\n",
              "      <td>Rondônia</td>\n",
              "      <td>1100023</td>\n",
              "      <td>Ariquemes</td>\n",
              "      <td>25730.20</td>\n",
              "    </tr>\n",
              "    <tr>\n",
              "      <th>2</th>\n",
              "      <td>2020</td>\n",
              "      <td>11</td>\n",
              "      <td>RO</td>\n",
              "      <td>Rondônia</td>\n",
              "      <td>1100031</td>\n",
              "      <td>Cabixi</td>\n",
              "      <td>32226.25</td>\n",
              "    </tr>\n",
              "    <tr>\n",
              "      <th>3</th>\n",
              "      <td>2020</td>\n",
              "      <td>11</td>\n",
              "      <td>RO</td>\n",
              "      <td>Rondônia</td>\n",
              "      <td>1100049</td>\n",
              "      <td>Cacoal</td>\n",
              "      <td>29331.29</td>\n",
              "    </tr>\n",
              "    <tr>\n",
              "      <th>4</th>\n",
              "      <td>2020</td>\n",
              "      <td>11</td>\n",
              "      <td>RO</td>\n",
              "      <td>Rondônia</td>\n",
              "      <td>1100056</td>\n",
              "      <td>Cerejeiras</td>\n",
              "      <td>37069.25</td>\n",
              "    </tr>\n",
              "  </tbody>\n",
              "</table>\n",
              "</div>\n",
              "      <button class=\"colab-df-convert\" onclick=\"convertToInteractive('df-ac001e22-f8f2-4d5d-83b6-03f12a3b2cb8')\"\n",
              "              title=\"Convert this dataframe to an interactive table.\"\n",
              "              style=\"display:none;\">\n",
              "        \n",
              "  <svg xmlns=\"http://www.w3.org/2000/svg\" height=\"24px\"viewBox=\"0 0 24 24\"\n",
              "       width=\"24px\">\n",
              "    <path d=\"M0 0h24v24H0V0z\" fill=\"none\"/>\n",
              "    <path d=\"M18.56 5.44l.94 2.06.94-2.06 2.06-.94-2.06-.94-.94-2.06-.94 2.06-2.06.94zm-11 1L8.5 8.5l.94-2.06 2.06-.94-2.06-.94L8.5 2.5l-.94 2.06-2.06.94zm10 10l.94 2.06.94-2.06 2.06-.94-2.06-.94-.94-2.06-.94 2.06-2.06.94z\"/><path d=\"M17.41 7.96l-1.37-1.37c-.4-.4-.92-.59-1.43-.59-.52 0-1.04.2-1.43.59L10.3 9.45l-7.72 7.72c-.78.78-.78 2.05 0 2.83L4 21.41c.39.39.9.59 1.41.59.51 0 1.02-.2 1.41-.59l7.78-7.78 2.81-2.81c.8-.78.8-2.07 0-2.86zM5.41 20L4 18.59l7.72-7.72 1.47 1.35L5.41 20z\"/>\n",
              "  </svg>\n",
              "      </button>\n",
              "      \n",
              "  <style>\n",
              "    .colab-df-container {\n",
              "      display:flex;\n",
              "      flex-wrap:wrap;\n",
              "      gap: 12px;\n",
              "    }\n",
              "\n",
              "    .colab-df-convert {\n",
              "      background-color: #E8F0FE;\n",
              "      border: none;\n",
              "      border-radius: 50%;\n",
              "      cursor: pointer;\n",
              "      display: none;\n",
              "      fill: #1967D2;\n",
              "      height: 32px;\n",
              "      padding: 0 0 0 0;\n",
              "      width: 32px;\n",
              "    }\n",
              "\n",
              "    .colab-df-convert:hover {\n",
              "      background-color: #E2EBFA;\n",
              "      box-shadow: 0px 1px 2px rgba(60, 64, 67, 0.3), 0px 1px 3px 1px rgba(60, 64, 67, 0.15);\n",
              "      fill: #174EA6;\n",
              "    }\n",
              "\n",
              "    [theme=dark] .colab-df-convert {\n",
              "      background-color: #3B4455;\n",
              "      fill: #D2E3FC;\n",
              "    }\n",
              "\n",
              "    [theme=dark] .colab-df-convert:hover {\n",
              "      background-color: #434B5C;\n",
              "      box-shadow: 0px 1px 3px 1px rgba(0, 0, 0, 0.15);\n",
              "      filter: drop-shadow(0px 1px 2px rgba(0, 0, 0, 0.3));\n",
              "      fill: #FFFFFF;\n",
              "    }\n",
              "  </style>\n",
              "\n",
              "      <script>\n",
              "        const buttonEl =\n",
              "          document.querySelector('#df-ac001e22-f8f2-4d5d-83b6-03f12a3b2cb8 button.colab-df-convert');\n",
              "        buttonEl.style.display =\n",
              "          google.colab.kernel.accessAllowed ? 'block' : 'none';\n",
              "\n",
              "        async function convertToInteractive(key) {\n",
              "          const element = document.querySelector('#df-ac001e22-f8f2-4d5d-83b6-03f12a3b2cb8');\n",
              "          const dataTable =\n",
              "            await google.colab.kernel.invokeFunction('convertToInteractive',\n",
              "                                                     [key], {});\n",
              "          if (!dataTable) return;\n",
              "\n",
              "          const docLinkHtml = 'Like what you see? Visit the ' +\n",
              "            '<a target=\"_blank\" href=https://colab.research.google.com/notebooks/data_table.ipynb>data table notebook</a>'\n",
              "            + ' to learn more about interactive tables.';\n",
              "          element.innerHTML = '';\n",
              "          dataTable['output_type'] = 'display_data';\n",
              "          await google.colab.output.renderOutput(dataTable, element);\n",
              "          const docLink = document.createElement('div');\n",
              "          docLink.innerHTML = docLinkHtml;\n",
              "          element.appendChild(docLink);\n",
              "        }\n",
              "      </script>\n",
              "    </div>\n",
              "  </div>\n",
              "  "
            ]
          },
          "metadata": {},
          "execution_count": 28
        }
      ]
    },
    {
      "cell_type": "code",
      "source": [
        "df_pib.info()"
      ],
      "metadata": {
        "colab": {
          "base_uri": "https://localhost:8080/"
        },
        "id": "bE0iJ72297lD",
        "outputId": "be2183a6-4548-4112-c574-e5b3a3e8b350"
      },
      "execution_count": 29,
      "outputs": [
        {
          "output_type": "stream",
          "name": "stdout",
          "text": [
            "<class 'pandas.core.frame.DataFrame'>\n",
            "RangeIndex: 5570 entries, 0 to 5569\n",
            "Data columns (total 7 columns):\n",
            " #   Column       Non-Null Count  Dtype  \n",
            "---  ------       --------------  -----  \n",
            " 0   Ano          5570 non-null   int64  \n",
            " 1   CodUF        5570 non-null   int64  \n",
            " 2   SiglaUF      5570 non-null   object \n",
            " 3   NomeUF       5570 non-null   object \n",
            " 4   CodMun       5570 non-null   int64  \n",
            " 5   NomeMun      5570 non-null   object \n",
            " 6   PIB_pcapita  5570 non-null   float64\n",
            "dtypes: float64(1), int64(3), object(3)\n",
            "memory usage: 304.7+ KB\n"
          ]
        }
      ]
    },
    {
      "cell_type": "code",
      "source": [
        "df_pib.shape"
      ],
      "metadata": {
        "colab": {
          "base_uri": "https://localhost:8080/"
        },
        "id": "lZWdT9qAxOae",
        "outputId": "ea914a5f-a4c0-4ff7-f7e8-926f68edcb31"
      },
      "execution_count": 30,
      "outputs": [
        {
          "output_type": "execute_result",
          "data": {
            "text/plain": [
              "(5570, 7)"
            ]
          },
          "metadata": {},
          "execution_count": 30
        }
      ]
    },
    {
      "cell_type": "markdown",
      "source": [
        "Nota: Geralmente existem 5596 municipio. Com o filtro do PIB ficaram 5570. Ao cruzar os dados pode ser que falte informações de PIB para alguns municipios. Fazendo o filtro para 2019 o resultado é o mesmo, o que indica que realmente faltam 36 municípios.\n"
      ],
      "metadata": {
        "id": "XkEgC9Q0xvhu"
      }
    },
    {
      "cell_type": "code",
      "source": [
        "df_pib.info()"
      ],
      "metadata": {
        "colab": {
          "base_uri": "https://localhost:8080/"
        },
        "id": "j7Q6oR65mu0m",
        "outputId": "0ae23198-91d6-46d7-d21e-b6a4e731113e"
      },
      "execution_count": 31,
      "outputs": [
        {
          "output_type": "stream",
          "name": "stdout",
          "text": [
            "<class 'pandas.core.frame.DataFrame'>\n",
            "RangeIndex: 5570 entries, 0 to 5569\n",
            "Data columns (total 7 columns):\n",
            " #   Column       Non-Null Count  Dtype  \n",
            "---  ------       --------------  -----  \n",
            " 0   Ano          5570 non-null   int64  \n",
            " 1   CodUF        5570 non-null   int64  \n",
            " 2   SiglaUF      5570 non-null   object \n",
            " 3   NomeUF       5570 non-null   object \n",
            " 4   CodMun       5570 non-null   int64  \n",
            " 5   NomeMun      5570 non-null   object \n",
            " 6   PIB_pcapita  5570 non-null   float64\n",
            "dtypes: float64(1), int64(3), object(3)\n",
            "memory usage: 304.7+ KB\n"
          ]
        }
      ]
    },
    {
      "cell_type": "markdown",
      "source": [
        "### 12 - IPEA - PIB Estados 2010 - 2020"
      ],
      "metadata": {
        "id": "8su62PangpMZ"
      }
    },
    {
      "cell_type": "code",
      "source": [
        "# Criando dataframe a partir de arquivo CSV\n",
        "# Carrega base de dados do google drive em arquivo CSV, separado por \";\", ignorando a primeira linha que contém somente o nome da tabela e importando até a coluna 4\n",
        "df_pibe = pd.read_csv('https://raw.githubusercontent.com/DaniloIto/TCC530_Univesp/main/Ipea_PIB-Estado2020/ipeadata%5B09-05-2023-10-42%5D%20.csv', sep=\";\", skiprows=1, usecols=[0,1,2,13], decimal=',')\n",
        "\n",
        "# Mudar nome da coluna\n",
        "df_pibe.rename(columns={'2020': 'pib2020'}, inplace=True)\n",
        "\n",
        "# Explorando os 10 primeiros registros\n",
        "df_pibe.head(10)"
      ],
      "metadata": {
        "colab": {
          "base_uri": "https://localhost:8080/",
          "height": 363
        },
        "id": "3qSgHvJvgsX3",
        "outputId": "59ce54da-c68b-428f-8940-3f4aaa314f9a"
      },
      "execution_count": 32,
      "outputs": [
        {
          "output_type": "execute_result",
          "data": {
            "text/plain": [
              "  Sigla  Código            Estado       pib2020\n",
              "0    AC      12              Acre  1.479647e+07\n",
              "1    AL      27           Alagoas  5.714151e+07\n",
              "2    AM      13          Amazonas  9.596072e+07\n",
              "3    AP      16             Amapá  1.721212e+07\n",
              "4    BA      29             Bahia  2.682268e+08\n",
              "5    CE      23             Ceará  1.461588e+08\n",
              "6    DF      53  Distrito Federal  2.403811e+08\n",
              "7    ES      32    Espírito Santo  1.148601e+08\n",
              "8    GO      52             Goiás  1.998327e+08\n",
              "9    MA      21          Maranhão  9.462822e+07"
            ],
            "text/html": [
              "\n",
              "  <div id=\"df-1771b4c2-e690-4d59-a354-6ea27ea8f0a9\">\n",
              "    <div class=\"colab-df-container\">\n",
              "      <div>\n",
              "<style scoped>\n",
              "    .dataframe tbody tr th:only-of-type {\n",
              "        vertical-align: middle;\n",
              "    }\n",
              "\n",
              "    .dataframe tbody tr th {\n",
              "        vertical-align: top;\n",
              "    }\n",
              "\n",
              "    .dataframe thead th {\n",
              "        text-align: right;\n",
              "    }\n",
              "</style>\n",
              "<table border=\"1\" class=\"dataframe\">\n",
              "  <thead>\n",
              "    <tr style=\"text-align: right;\">\n",
              "      <th></th>\n",
              "      <th>Sigla</th>\n",
              "      <th>Código</th>\n",
              "      <th>Estado</th>\n",
              "      <th>pib2020</th>\n",
              "    </tr>\n",
              "  </thead>\n",
              "  <tbody>\n",
              "    <tr>\n",
              "      <th>0</th>\n",
              "      <td>AC</td>\n",
              "      <td>12</td>\n",
              "      <td>Acre</td>\n",
              "      <td>1.479647e+07</td>\n",
              "    </tr>\n",
              "    <tr>\n",
              "      <th>1</th>\n",
              "      <td>AL</td>\n",
              "      <td>27</td>\n",
              "      <td>Alagoas</td>\n",
              "      <td>5.714151e+07</td>\n",
              "    </tr>\n",
              "    <tr>\n",
              "      <th>2</th>\n",
              "      <td>AM</td>\n",
              "      <td>13</td>\n",
              "      <td>Amazonas</td>\n",
              "      <td>9.596072e+07</td>\n",
              "    </tr>\n",
              "    <tr>\n",
              "      <th>3</th>\n",
              "      <td>AP</td>\n",
              "      <td>16</td>\n",
              "      <td>Amapá</td>\n",
              "      <td>1.721212e+07</td>\n",
              "    </tr>\n",
              "    <tr>\n",
              "      <th>4</th>\n",
              "      <td>BA</td>\n",
              "      <td>29</td>\n",
              "      <td>Bahia</td>\n",
              "      <td>2.682268e+08</td>\n",
              "    </tr>\n",
              "    <tr>\n",
              "      <th>5</th>\n",
              "      <td>CE</td>\n",
              "      <td>23</td>\n",
              "      <td>Ceará</td>\n",
              "      <td>1.461588e+08</td>\n",
              "    </tr>\n",
              "    <tr>\n",
              "      <th>6</th>\n",
              "      <td>DF</td>\n",
              "      <td>53</td>\n",
              "      <td>Distrito Federal</td>\n",
              "      <td>2.403811e+08</td>\n",
              "    </tr>\n",
              "    <tr>\n",
              "      <th>7</th>\n",
              "      <td>ES</td>\n",
              "      <td>32</td>\n",
              "      <td>Espírito Santo</td>\n",
              "      <td>1.148601e+08</td>\n",
              "    </tr>\n",
              "    <tr>\n",
              "      <th>8</th>\n",
              "      <td>GO</td>\n",
              "      <td>52</td>\n",
              "      <td>Goiás</td>\n",
              "      <td>1.998327e+08</td>\n",
              "    </tr>\n",
              "    <tr>\n",
              "      <th>9</th>\n",
              "      <td>MA</td>\n",
              "      <td>21</td>\n",
              "      <td>Maranhão</td>\n",
              "      <td>9.462822e+07</td>\n",
              "    </tr>\n",
              "  </tbody>\n",
              "</table>\n",
              "</div>\n",
              "      <button class=\"colab-df-convert\" onclick=\"convertToInteractive('df-1771b4c2-e690-4d59-a354-6ea27ea8f0a9')\"\n",
              "              title=\"Convert this dataframe to an interactive table.\"\n",
              "              style=\"display:none;\">\n",
              "        \n",
              "  <svg xmlns=\"http://www.w3.org/2000/svg\" height=\"24px\"viewBox=\"0 0 24 24\"\n",
              "       width=\"24px\">\n",
              "    <path d=\"M0 0h24v24H0V0z\" fill=\"none\"/>\n",
              "    <path d=\"M18.56 5.44l.94 2.06.94-2.06 2.06-.94-2.06-.94-.94-2.06-.94 2.06-2.06.94zm-11 1L8.5 8.5l.94-2.06 2.06-.94-2.06-.94L8.5 2.5l-.94 2.06-2.06.94zm10 10l.94 2.06.94-2.06 2.06-.94-2.06-.94-.94-2.06-.94 2.06-2.06.94z\"/><path d=\"M17.41 7.96l-1.37-1.37c-.4-.4-.92-.59-1.43-.59-.52 0-1.04.2-1.43.59L10.3 9.45l-7.72 7.72c-.78.78-.78 2.05 0 2.83L4 21.41c.39.39.9.59 1.41.59.51 0 1.02-.2 1.41-.59l7.78-7.78 2.81-2.81c.8-.78.8-2.07 0-2.86zM5.41 20L4 18.59l7.72-7.72 1.47 1.35L5.41 20z\"/>\n",
              "  </svg>\n",
              "      </button>\n",
              "      \n",
              "  <style>\n",
              "    .colab-df-container {\n",
              "      display:flex;\n",
              "      flex-wrap:wrap;\n",
              "      gap: 12px;\n",
              "    }\n",
              "\n",
              "    .colab-df-convert {\n",
              "      background-color: #E8F0FE;\n",
              "      border: none;\n",
              "      border-radius: 50%;\n",
              "      cursor: pointer;\n",
              "      display: none;\n",
              "      fill: #1967D2;\n",
              "      height: 32px;\n",
              "      padding: 0 0 0 0;\n",
              "      width: 32px;\n",
              "    }\n",
              "\n",
              "    .colab-df-convert:hover {\n",
              "      background-color: #E2EBFA;\n",
              "      box-shadow: 0px 1px 2px rgba(60, 64, 67, 0.3), 0px 1px 3px 1px rgba(60, 64, 67, 0.15);\n",
              "      fill: #174EA6;\n",
              "    }\n",
              "\n",
              "    [theme=dark] .colab-df-convert {\n",
              "      background-color: #3B4455;\n",
              "      fill: #D2E3FC;\n",
              "    }\n",
              "\n",
              "    [theme=dark] .colab-df-convert:hover {\n",
              "      background-color: #434B5C;\n",
              "      box-shadow: 0px 1px 3px 1px rgba(0, 0, 0, 0.15);\n",
              "      filter: drop-shadow(0px 1px 2px rgba(0, 0, 0, 0.3));\n",
              "      fill: #FFFFFF;\n",
              "    }\n",
              "  </style>\n",
              "\n",
              "      <script>\n",
              "        const buttonEl =\n",
              "          document.querySelector('#df-1771b4c2-e690-4d59-a354-6ea27ea8f0a9 button.colab-df-convert');\n",
              "        buttonEl.style.display =\n",
              "          google.colab.kernel.accessAllowed ? 'block' : 'none';\n",
              "\n",
              "        async function convertToInteractive(key) {\n",
              "          const element = document.querySelector('#df-1771b4c2-e690-4d59-a354-6ea27ea8f0a9');\n",
              "          const dataTable =\n",
              "            await google.colab.kernel.invokeFunction('convertToInteractive',\n",
              "                                                     [key], {});\n",
              "          if (!dataTable) return;\n",
              "\n",
              "          const docLinkHtml = 'Like what you see? Visit the ' +\n",
              "            '<a target=\"_blank\" href=https://colab.research.google.com/notebooks/data_table.ipynb>data table notebook</a>'\n",
              "            + ' to learn more about interactive tables.';\n",
              "          element.innerHTML = '';\n",
              "          dataTable['output_type'] = 'display_data';\n",
              "          await google.colab.output.renderOutput(dataTable, element);\n",
              "          const docLink = document.createElement('div');\n",
              "          docLink.innerHTML = docLinkHtml;\n",
              "          element.appendChild(docLink);\n",
              "        }\n",
              "      </script>\n",
              "    </div>\n",
              "  </div>\n",
              "  "
            ]
          },
          "metadata": {},
          "execution_count": 32
        }
      ]
    },
    {
      "cell_type": "markdown",
      "source": [
        "### 13 - ANEEL - DADOS DE GERAÇÃO DISTRIBUIDA "
      ],
      "metadata": {
        "id": "xx3g5VNoo1f4"
      }
    },
    {
      "cell_type": "code",
      "source": [
        "# para carregar os dados direto do site dados abertos da ANEEL porém esta operação pode levar cerca 30 min\n",
        "\n",
        "url = \"https://dadosabertos.aneel.gov.br/dataset/5e0fafd2-21b9-4d5b-b622-40438d40aba2/resource/b1bd71e7-d0ad-4214-9053-cbd58e9564a7/download/empreendimento-geracao-distribuida.csv\"  \n",
        "response = requests.get(url)\n",
        "with open(\"empreendimentos_GD.csv\", \"wb\") as f:\n",
        "  f.write(response.content)\n",
        "df_gd = pd.read_csv(\"empreendimentos_GD.csv\", sep=';', encoding='ISO8859-1', on_bad_lines='skip', usecols=[0,1,3,4,5,6,7,8,9,10,11,12,13,14,16,18,19,20,24,25,26,27,28,29])\n",
        "\n",
        "df_gd.head(5)"
      ],
      "metadata": {
        "id": "Awof6Dp5Ln6g"
      },
      "execution_count": null,
      "outputs": []
    },
    {
      "cell_type": "markdown",
      "source": [
        "A base de dados da ANEEL possui 23 colunas e número de linhas em milhões descrito abaixo"
      ],
      "metadata": {
        "id": "JgeCeWZUwD_n"
      }
    },
    {
      "cell_type": "code",
      "source": [
        "#criando a coluna ano\n",
        "df_gd['DthAtualizaCadastralEmpreend']=pd.to_datetime(df_gd['DthAtualizaCadastralEmpreend'])\n",
        "df_gd['Ano']=df_gd['DthAtualizaCadastralEmpreend'].dt.year\n",
        "\n",
        "#modificando código de municipio de float para int\n",
        "df_gd['CodMunicipioIbge']=df_gd['CodMunicipioIbge'].fillna(0)\n",
        "df_gd['CodMunicipioIbge']=df_gd['CodMunicipioIbge'].astype(int)\n",
        "\n",
        "df_gd.head(5)"
      ],
      "metadata": {
        "colab": {
          "base_uri": "https://localhost:8080/",
          "height": 528
        },
        "id": "pSE7S83siHd2",
        "outputId": "f05ba6b2-6cd3-4424-cf52-576d1f7ce9c8"
      },
      "execution_count": 36,
      "outputs": [
        {
          "output_type": "error",
          "ename": "KeyError",
          "evalue": "ignored",
          "traceback": [
            "\u001b[0;31m---------------------------------------------------------------------------\u001b[0m",
            "\u001b[0;31mKeyError\u001b[0m                                  Traceback (most recent call last)",
            "\u001b[0;32m/usr/local/lib/python3.10/dist-packages/pandas/core/indexes/base.py\u001b[0m in \u001b[0;36mget_loc\u001b[0;34m(self, key, method, tolerance)\u001b[0m\n\u001b[1;32m   3801\u001b[0m             \u001b[0;32mtry\u001b[0m\u001b[0;34m:\u001b[0m\u001b[0;34m\u001b[0m\u001b[0;34m\u001b[0m\u001b[0m\n\u001b[0;32m-> 3802\u001b[0;31m                 \u001b[0;32mreturn\u001b[0m \u001b[0mself\u001b[0m\u001b[0;34m.\u001b[0m\u001b[0m_engine\u001b[0m\u001b[0;34m.\u001b[0m\u001b[0mget_loc\u001b[0m\u001b[0;34m(\u001b[0m\u001b[0mcasted_key\u001b[0m\u001b[0;34m)\u001b[0m\u001b[0;34m\u001b[0m\u001b[0;34m\u001b[0m\u001b[0m\n\u001b[0m\u001b[1;32m   3803\u001b[0m             \u001b[0;32mexcept\u001b[0m \u001b[0mKeyError\u001b[0m \u001b[0;32mas\u001b[0m \u001b[0merr\u001b[0m\u001b[0;34m:\u001b[0m\u001b[0;34m\u001b[0m\u001b[0;34m\u001b[0m\u001b[0m\n",
            "\u001b[0;32m/usr/local/lib/python3.10/dist-packages/pandas/_libs/index.pyx\u001b[0m in \u001b[0;36mpandas._libs.index.IndexEngine.get_loc\u001b[0;34m()\u001b[0m\n",
            "\u001b[0;32m/usr/local/lib/python3.10/dist-packages/pandas/_libs/index.pyx\u001b[0m in \u001b[0;36mpandas._libs.index.IndexEngine.get_loc\u001b[0;34m()\u001b[0m\n",
            "\u001b[0;32mpandas/_libs/hashtable_class_helper.pxi\u001b[0m in \u001b[0;36mpandas._libs.hashtable.PyObjectHashTable.get_item\u001b[0;34m()\u001b[0m\n",
            "\u001b[0;32mpandas/_libs/hashtable_class_helper.pxi\u001b[0m in \u001b[0;36mpandas._libs.hashtable.PyObjectHashTable.get_item\u001b[0;34m()\u001b[0m\n",
            "\u001b[0;31mKeyError\u001b[0m: 'DthAtualizaCadastralEmpreend'",
            "\nThe above exception was the direct cause of the following exception:\n",
            "\u001b[0;31mKeyError\u001b[0m                                  Traceback (most recent call last)",
            "\u001b[0;32m<ipython-input-36-1741cefed6ce>\u001b[0m in \u001b[0;36m<cell line: 2>\u001b[0;34m()\u001b[0m\n\u001b[1;32m      1\u001b[0m \u001b[0;31m#criando a coluna ano\u001b[0m\u001b[0;34m\u001b[0m\u001b[0;34m\u001b[0m\u001b[0m\n\u001b[0;32m----> 2\u001b[0;31m \u001b[0mdf_gd\u001b[0m\u001b[0;34m[\u001b[0m\u001b[0;34m'DthAtualizaCadastralEmpreend'\u001b[0m\u001b[0;34m]\u001b[0m\u001b[0;34m=\u001b[0m\u001b[0mpd\u001b[0m\u001b[0;34m.\u001b[0m\u001b[0mto_datetime\u001b[0m\u001b[0;34m(\u001b[0m\u001b[0mdf_gd\u001b[0m\u001b[0;34m[\u001b[0m\u001b[0;34m'DthAtualizaCadastralEmpreend'\u001b[0m\u001b[0;34m]\u001b[0m\u001b[0;34m)\u001b[0m\u001b[0;34m\u001b[0m\u001b[0;34m\u001b[0m\u001b[0m\n\u001b[0m\u001b[1;32m      3\u001b[0m \u001b[0mdf_gd\u001b[0m\u001b[0;34m[\u001b[0m\u001b[0;34m'Ano'\u001b[0m\u001b[0;34m]\u001b[0m\u001b[0;34m=\u001b[0m\u001b[0mdf_gd\u001b[0m\u001b[0;34m[\u001b[0m\u001b[0;34m'DthAtualizaCadastralEmpreend'\u001b[0m\u001b[0;34m]\u001b[0m\u001b[0;34m.\u001b[0m\u001b[0mdt\u001b[0m\u001b[0;34m.\u001b[0m\u001b[0myear\u001b[0m\u001b[0;34m\u001b[0m\u001b[0;34m\u001b[0m\u001b[0m\n\u001b[1;32m      4\u001b[0m \u001b[0;34m\u001b[0m\u001b[0m\n\u001b[1;32m      5\u001b[0m \u001b[0;31m#modificando código de municipio de float para int\u001b[0m\u001b[0;34m\u001b[0m\u001b[0;34m\u001b[0m\u001b[0m\n",
            "\u001b[0;32m/usr/local/lib/python3.10/dist-packages/pandas/core/frame.py\u001b[0m in \u001b[0;36m__getitem__\u001b[0;34m(self, key)\u001b[0m\n\u001b[1;32m   3805\u001b[0m             \u001b[0;32mif\u001b[0m \u001b[0mself\u001b[0m\u001b[0;34m.\u001b[0m\u001b[0mcolumns\u001b[0m\u001b[0;34m.\u001b[0m\u001b[0mnlevels\u001b[0m \u001b[0;34m>\u001b[0m \u001b[0;36m1\u001b[0m\u001b[0;34m:\u001b[0m\u001b[0;34m\u001b[0m\u001b[0;34m\u001b[0m\u001b[0m\n\u001b[1;32m   3806\u001b[0m                 \u001b[0;32mreturn\u001b[0m \u001b[0mself\u001b[0m\u001b[0;34m.\u001b[0m\u001b[0m_getitem_multilevel\u001b[0m\u001b[0;34m(\u001b[0m\u001b[0mkey\u001b[0m\u001b[0;34m)\u001b[0m\u001b[0;34m\u001b[0m\u001b[0;34m\u001b[0m\u001b[0m\n\u001b[0;32m-> 3807\u001b[0;31m             \u001b[0mindexer\u001b[0m \u001b[0;34m=\u001b[0m \u001b[0mself\u001b[0m\u001b[0;34m.\u001b[0m\u001b[0mcolumns\u001b[0m\u001b[0;34m.\u001b[0m\u001b[0mget_loc\u001b[0m\u001b[0;34m(\u001b[0m\u001b[0mkey\u001b[0m\u001b[0;34m)\u001b[0m\u001b[0;34m\u001b[0m\u001b[0;34m\u001b[0m\u001b[0m\n\u001b[0m\u001b[1;32m   3808\u001b[0m             \u001b[0;32mif\u001b[0m \u001b[0mis_integer\u001b[0m\u001b[0;34m(\u001b[0m\u001b[0mindexer\u001b[0m\u001b[0;34m)\u001b[0m\u001b[0;34m:\u001b[0m\u001b[0;34m\u001b[0m\u001b[0;34m\u001b[0m\u001b[0m\n\u001b[1;32m   3809\u001b[0m                 \u001b[0mindexer\u001b[0m \u001b[0;34m=\u001b[0m \u001b[0;34m[\u001b[0m\u001b[0mindexer\u001b[0m\u001b[0;34m]\u001b[0m\u001b[0;34m\u001b[0m\u001b[0;34m\u001b[0m\u001b[0m\n",
            "\u001b[0;32m/usr/local/lib/python3.10/dist-packages/pandas/core/indexes/base.py\u001b[0m in \u001b[0;36mget_loc\u001b[0;34m(self, key, method, tolerance)\u001b[0m\n\u001b[1;32m   3802\u001b[0m                 \u001b[0;32mreturn\u001b[0m \u001b[0mself\u001b[0m\u001b[0;34m.\u001b[0m\u001b[0m_engine\u001b[0m\u001b[0;34m.\u001b[0m\u001b[0mget_loc\u001b[0m\u001b[0;34m(\u001b[0m\u001b[0mcasted_key\u001b[0m\u001b[0;34m)\u001b[0m\u001b[0;34m\u001b[0m\u001b[0;34m\u001b[0m\u001b[0m\n\u001b[1;32m   3803\u001b[0m             \u001b[0;32mexcept\u001b[0m \u001b[0mKeyError\u001b[0m \u001b[0;32mas\u001b[0m \u001b[0merr\u001b[0m\u001b[0;34m:\u001b[0m\u001b[0;34m\u001b[0m\u001b[0;34m\u001b[0m\u001b[0m\n\u001b[0;32m-> 3804\u001b[0;31m                 \u001b[0;32mraise\u001b[0m \u001b[0mKeyError\u001b[0m\u001b[0;34m(\u001b[0m\u001b[0mkey\u001b[0m\u001b[0;34m)\u001b[0m \u001b[0;32mfrom\u001b[0m \u001b[0merr\u001b[0m\u001b[0;34m\u001b[0m\u001b[0;34m\u001b[0m\u001b[0m\n\u001b[0m\u001b[1;32m   3805\u001b[0m             \u001b[0;32mexcept\u001b[0m \u001b[0mTypeError\u001b[0m\u001b[0;34m:\u001b[0m\u001b[0;34m\u001b[0m\u001b[0;34m\u001b[0m\u001b[0m\n\u001b[1;32m   3806\u001b[0m                 \u001b[0;31m# If we have a listlike key, _check_indexing_error will raise\u001b[0m\u001b[0;34m\u001b[0m\u001b[0;34m\u001b[0m\u001b[0m\n",
            "\u001b[0;31mKeyError\u001b[0m: 'DthAtualizaCadastralEmpreend'"
          ]
        }
      ]
    },
    {
      "cell_type": "code",
      "source": [
        "df_gd.shape"
      ],
      "metadata": {
        "colab": {
          "base_uri": "https://localhost:8080/",
          "height": 172
        },
        "id": "8tUH0wdQvxTk",
        "outputId": "852ba1d0-ebec-4a93-a14d-1f70ce0245ac"
      },
      "execution_count": 33,
      "outputs": [
        {
          "output_type": "error",
          "ename": "NameError",
          "evalue": "ignored",
          "traceback": [
            "\u001b[0;31m---------------------------------------------------------------------------\u001b[0m",
            "\u001b[0;31mNameError\u001b[0m                                 Traceback (most recent call last)",
            "\u001b[0;32m<ipython-input-33-4cd5f034d7f3>\u001b[0m in \u001b[0;36m<cell line: 1>\u001b[0;34m()\u001b[0m\n\u001b[0;32m----> 1\u001b[0;31m \u001b[0mdf_gd\u001b[0m\u001b[0;34m.\u001b[0m\u001b[0mshape\u001b[0m\u001b[0;34m\u001b[0m\u001b[0;34m\u001b[0m\u001b[0m\n\u001b[0m",
            "\u001b[0;31mNameError\u001b[0m: name 'df_gd' is not defined"
          ]
        }
      ]
    },
    {
      "cell_type": "code",
      "source": [
        "df_gd.info()"
      ],
      "metadata": {
        "id": "n4mHDW0wv7iP"
      },
      "execution_count": null,
      "outputs": []
    },
    {
      "cell_type": "code",
      "source": [
        "df_gd.columns"
      ],
      "metadata": {
        "id": "TnrpSIG4G0FV"
      },
      "execution_count": null,
      "outputs": []
    },
    {
      "cell_type": "markdown",
      "source": [
        "## 3.0 UNIFICANDO A BASE DE DADOS POR MUNICIPIO E POR ESTADO"
      ],
      "metadata": {
        "id": "ucXmtEtwT6F2"
      }
    },
    {
      "cell_type": "markdown",
      "source": [
        "### 3.1 Unificando a base por município"
      ],
      "metadata": {
        "id": "cetv0KLrUOT5"
      }
    },
    {
      "cell_type": "code",
      "source": [
        "# Unificando os dataframes de dados de municipio pela coluna código\n",
        "dfm1 = pd.merge(df_im, df_pm, how = 'left', on=['Sigla', 'Código', 'Município'])\n",
        "dfm2 = pd.merge(dfm1, df_am, how = 'left', on=['Sigla', 'Código', 'Município'])\n",
        "dfm3 = pd.merge(dfm2, df_hm, how = 'left', on=['Sigla', 'Código', 'Município'])\n",
        "dfm4 = pd.merge(dfm3, df_ltm, how = 'left', on=['Sigla', 'Código', 'Município'])\n",
        "dfm5 = pd.merge(dfm4, df_lgm, how = 'left', on=['Sigla', 'Código', 'Município'])\n",
        "\n",
        "dfm5.head(5)"
      ],
      "metadata": {
        "colab": {
          "base_uri": "https://localhost:8080/",
          "height": 206
        },
        "id": "I3DcqaNWT5tC",
        "outputId": "3e534a59-c774-4f4e-8f83-bfc04df197fc"
      },
      "execution_count": 35,
      "outputs": [
        {
          "output_type": "execute_result",
          "data": {
            "text/plain": [
              "  Sigla   Código     Município  IDHM2010  PopM2021  AreaM2022  Altitude1998  \\\n",
              "0    AC  1200013    Acrelândia     0.604   15721.0   1811.613          25.0   \n",
              "1    AC  1200054  Assis Brasil     0.588    7649.0   4979.073         239.0   \n",
              "2    AC  1200104     Brasiléia     0.614   27123.0   3928.174         172.0   \n",
              "3    AC  1200138        Bujari     0.589   10572.0   3034.869          50.0   \n",
              "4    AC  1200179      Capixaba     0.575   12280.0   1705.824          40.0   \n",
              "\n",
              "         Lat       Long  \n",
              "0  -9.827778 -66.883333  \n",
              "1 -10.941389 -69.566944  \n",
              "2 -11.016111 -68.748056  \n",
              "3  -9.830556 -67.952222  \n",
              "4 -10.572778 -67.675556  "
            ],
            "text/html": [
              "\n",
              "  <div id=\"df-baee68a4-b2b9-4fb8-bcff-eb054c73a00f\">\n",
              "    <div class=\"colab-df-container\">\n",
              "      <div>\n",
              "<style scoped>\n",
              "    .dataframe tbody tr th:only-of-type {\n",
              "        vertical-align: middle;\n",
              "    }\n",
              "\n",
              "    .dataframe tbody tr th {\n",
              "        vertical-align: top;\n",
              "    }\n",
              "\n",
              "    .dataframe thead th {\n",
              "        text-align: right;\n",
              "    }\n",
              "</style>\n",
              "<table border=\"1\" class=\"dataframe\">\n",
              "  <thead>\n",
              "    <tr style=\"text-align: right;\">\n",
              "      <th></th>\n",
              "      <th>Sigla</th>\n",
              "      <th>Código</th>\n",
              "      <th>Município</th>\n",
              "      <th>IDHM2010</th>\n",
              "      <th>PopM2021</th>\n",
              "      <th>AreaM2022</th>\n",
              "      <th>Altitude1998</th>\n",
              "      <th>Lat</th>\n",
              "      <th>Long</th>\n",
              "    </tr>\n",
              "  </thead>\n",
              "  <tbody>\n",
              "    <tr>\n",
              "      <th>0</th>\n",
              "      <td>AC</td>\n",
              "      <td>1200013</td>\n",
              "      <td>Acrelândia</td>\n",
              "      <td>0.604</td>\n",
              "      <td>15721.0</td>\n",
              "      <td>1811.613</td>\n",
              "      <td>25.0</td>\n",
              "      <td>-9.827778</td>\n",
              "      <td>-66.883333</td>\n",
              "    </tr>\n",
              "    <tr>\n",
              "      <th>1</th>\n",
              "      <td>AC</td>\n",
              "      <td>1200054</td>\n",
              "      <td>Assis Brasil</td>\n",
              "      <td>0.588</td>\n",
              "      <td>7649.0</td>\n",
              "      <td>4979.073</td>\n",
              "      <td>239.0</td>\n",
              "      <td>-10.941389</td>\n",
              "      <td>-69.566944</td>\n",
              "    </tr>\n",
              "    <tr>\n",
              "      <th>2</th>\n",
              "      <td>AC</td>\n",
              "      <td>1200104</td>\n",
              "      <td>Brasiléia</td>\n",
              "      <td>0.614</td>\n",
              "      <td>27123.0</td>\n",
              "      <td>3928.174</td>\n",
              "      <td>172.0</td>\n",
              "      <td>-11.016111</td>\n",
              "      <td>-68.748056</td>\n",
              "    </tr>\n",
              "    <tr>\n",
              "      <th>3</th>\n",
              "      <td>AC</td>\n",
              "      <td>1200138</td>\n",
              "      <td>Bujari</td>\n",
              "      <td>0.589</td>\n",
              "      <td>10572.0</td>\n",
              "      <td>3034.869</td>\n",
              "      <td>50.0</td>\n",
              "      <td>-9.830556</td>\n",
              "      <td>-67.952222</td>\n",
              "    </tr>\n",
              "    <tr>\n",
              "      <th>4</th>\n",
              "      <td>AC</td>\n",
              "      <td>1200179</td>\n",
              "      <td>Capixaba</td>\n",
              "      <td>0.575</td>\n",
              "      <td>12280.0</td>\n",
              "      <td>1705.824</td>\n",
              "      <td>40.0</td>\n",
              "      <td>-10.572778</td>\n",
              "      <td>-67.675556</td>\n",
              "    </tr>\n",
              "  </tbody>\n",
              "</table>\n",
              "</div>\n",
              "      <button class=\"colab-df-convert\" onclick=\"convertToInteractive('df-baee68a4-b2b9-4fb8-bcff-eb054c73a00f')\"\n",
              "              title=\"Convert this dataframe to an interactive table.\"\n",
              "              style=\"display:none;\">\n",
              "        \n",
              "  <svg xmlns=\"http://www.w3.org/2000/svg\" height=\"24px\"viewBox=\"0 0 24 24\"\n",
              "       width=\"24px\">\n",
              "    <path d=\"M0 0h24v24H0V0z\" fill=\"none\"/>\n",
              "    <path d=\"M18.56 5.44l.94 2.06.94-2.06 2.06-.94-2.06-.94-.94-2.06-.94 2.06-2.06.94zm-11 1L8.5 8.5l.94-2.06 2.06-.94-2.06-.94L8.5 2.5l-.94 2.06-2.06.94zm10 10l.94 2.06.94-2.06 2.06-.94-2.06-.94-.94-2.06-.94 2.06-2.06.94z\"/><path d=\"M17.41 7.96l-1.37-1.37c-.4-.4-.92-.59-1.43-.59-.52 0-1.04.2-1.43.59L10.3 9.45l-7.72 7.72c-.78.78-.78 2.05 0 2.83L4 21.41c.39.39.9.59 1.41.59.51 0 1.02-.2 1.41-.59l7.78-7.78 2.81-2.81c.8-.78.8-2.07 0-2.86zM5.41 20L4 18.59l7.72-7.72 1.47 1.35L5.41 20z\"/>\n",
              "  </svg>\n",
              "      </button>\n",
              "      \n",
              "  <style>\n",
              "    .colab-df-container {\n",
              "      display:flex;\n",
              "      flex-wrap:wrap;\n",
              "      gap: 12px;\n",
              "    }\n",
              "\n",
              "    .colab-df-convert {\n",
              "      background-color: #E8F0FE;\n",
              "      border: none;\n",
              "      border-radius: 50%;\n",
              "      cursor: pointer;\n",
              "      display: none;\n",
              "      fill: #1967D2;\n",
              "      height: 32px;\n",
              "      padding: 0 0 0 0;\n",
              "      width: 32px;\n",
              "    }\n",
              "\n",
              "    .colab-df-convert:hover {\n",
              "      background-color: #E2EBFA;\n",
              "      box-shadow: 0px 1px 2px rgba(60, 64, 67, 0.3), 0px 1px 3px 1px rgba(60, 64, 67, 0.15);\n",
              "      fill: #174EA6;\n",
              "    }\n",
              "\n",
              "    [theme=dark] .colab-df-convert {\n",
              "      background-color: #3B4455;\n",
              "      fill: #D2E3FC;\n",
              "    }\n",
              "\n",
              "    [theme=dark] .colab-df-convert:hover {\n",
              "      background-color: #434B5C;\n",
              "      box-shadow: 0px 1px 3px 1px rgba(0, 0, 0, 0.15);\n",
              "      filter: drop-shadow(0px 1px 2px rgba(0, 0, 0, 0.3));\n",
              "      fill: #FFFFFF;\n",
              "    }\n",
              "  </style>\n",
              "\n",
              "      <script>\n",
              "        const buttonEl =\n",
              "          document.querySelector('#df-baee68a4-b2b9-4fb8-bcff-eb054c73a00f button.colab-df-convert');\n",
              "        buttonEl.style.display =\n",
              "          google.colab.kernel.accessAllowed ? 'block' : 'none';\n",
              "\n",
              "        async function convertToInteractive(key) {\n",
              "          const element = document.querySelector('#df-baee68a4-b2b9-4fb8-bcff-eb054c73a00f');\n",
              "          const dataTable =\n",
              "            await google.colab.kernel.invokeFunction('convertToInteractive',\n",
              "                                                     [key], {});\n",
              "          if (!dataTable) return;\n",
              "\n",
              "          const docLinkHtml = 'Like what you see? Visit the ' +\n",
              "            '<a target=\"_blank\" href=https://colab.research.google.com/notebooks/data_table.ipynb>data table notebook</a>'\n",
              "            + ' to learn more about interactive tables.';\n",
              "          element.innerHTML = '';\n",
              "          dataTable['output_type'] = 'display_data';\n",
              "          await google.colab.output.renderOutput(dataTable, element);\n",
              "          const docLink = document.createElement('div');\n",
              "          docLink.innerHTML = docLinkHtml;\n",
              "          element.appendChild(docLink);\n",
              "        }\n",
              "      </script>\n",
              "    </div>\n",
              "  </div>\n",
              "  "
            ]
          },
          "metadata": {},
          "execution_count": 35
        }
      ]
    },
    {
      "cell_type": "code",
      "source": [
        "dfm5.shape"
      ],
      "metadata": {
        "id": "cyAOfg3134lP"
      },
      "execution_count": null,
      "outputs": []
    },
    {
      "cell_type": "code",
      "source": [
        "#Unificar com nomes de colunas diferentes\n",
        "dfm6 = pd.merge(dfm5, df_pib, how = 'left', left_on=\"Código\", right_on=\"CodMun\")\n",
        "dfm7 = dfm6.loc[:, ['Sigla', 'Código', 'Município', 'IDHM2010', 'PopM2021', 'AreaM2022',\n",
        "       'Altitude1998', 'Lat', 'Long', 'PIB_pcapita']]\n",
        "\n",
        "dfm7.head(5)"
      ],
      "metadata": {
        "id": "QzSoCuOQDw0X"
      },
      "execution_count": null,
      "outputs": []
    },
    {
      "cell_type": "code",
      "source": [
        "dfm7.shape"
      ],
      "metadata": {
        "id": "xCmn3TXGUcfq"
      },
      "execution_count": null,
      "outputs": []
    },
    {
      "cell_type": "markdown",
      "source": [
        "### 3.2 Unificando a base por Estado"
      ],
      "metadata": {
        "id": "Xvy_iB-PUd8Z"
      }
    },
    {
      "cell_type": "code",
      "source": [
        "# Unificando os dataframes de dados de estado pela coluna código\n",
        "dfe1 = pd.merge(df_pe, df_ee, how = 'left', on=['Sigla', 'Código', 'Estado'])\n",
        "\n",
        "dfe1.head(5)"
      ],
      "metadata": {
        "id": "ZngUR3rFUfZR"
      },
      "execution_count": null,
      "outputs": []
    },
    {
      "cell_type": "code",
      "source": [
        "#Unificar com nomes de colunas diferentes\n",
        "dfe2 = pd.merge(dfe1, df_ie, how = 'left', left_on=\"Estado\", right_on=\"Territorialidades\")\n",
        "\n",
        "dfe3 = dfe2.loc[:, ['Sigla', 'Código', 'Estado', 'PopE2021', 'EE2018', 'EE2019', 'EE2020',\n",
        "       'EE2021', 'EE2022', 'IDH2021']]\n",
        "dfe3.head(5)"
      ],
      "metadata": {
        "id": "TXgGFjpEUfx0"
      },
      "execution_count": null,
      "outputs": []
    },
    {
      "cell_type": "code",
      "source": [
        "dfe4 = pd.merge(dfe3, df_pibe, how = 'left', left_on=\"Estado\", right_on=\"Estado\")\n",
        "\n",
        "dfe5 = dfe4.loc[:, ['Sigla_x', 'Código_x', 'Estado', 'PopE2021', 'EE2018', 'EE2019', 'EE2020',\n",
        "       'EE2021', 'EE2022', 'IDH2021', 'pib2020']]\n",
        "dfe5.head(5)"
      ],
      "metadata": {
        "id": "11ks2kGBisZA"
      },
      "execution_count": null,
      "outputs": []
    },
    {
      "cell_type": "code",
      "source": [
        "dfe5.shape"
      ],
      "metadata": {
        "id": "rcprnr30UyqI"
      },
      "execution_count": null,
      "outputs": []
    },
    {
      "cell_type": "markdown",
      "source": [
        "### 3.3 Agrupando a base de GD por estado"
      ],
      "metadata": {
        "id": "fLMDSrf-U11A"
      }
    },
    {
      "cell_type": "markdown",
      "source": [
        "### 3.3.1 Agrupando dados por estado"
      ],
      "metadata": {
        "id": "v1DfXDL5i12i"
      }
    },
    {
      "cell_type": "code",
      "source": [
        "#Agrupando dados por estado\n",
        "\n",
        "df_gdge1 = df_gd.groupby(['SigUF']).agg({'SigTipoGeracao': 'count','MdaPotenciaInstaladaKW': 'sum'})\n",
        "df_gdge1 = df_gdge1.rename(columns={'SigTipoGeracao': 'Qtde_GD','MdaPotenciaInstaladaKW': 'KW_Total'})\n",
        "df_gdge1"
      ],
      "metadata": {
        "id": "wvAasfB7i69w"
      },
      "execution_count": null,
      "outputs": []
    },
    {
      "cell_type": "markdown",
      "source": [
        "###3.3.2 Agrupando dados de GD por estado e por ano"
      ],
      "metadata": {
        "id": "8f2b3m73jDg4"
      }
    },
    {
      "cell_type": "code",
      "source": [
        "#Agrupando dados por estado e por ano\n",
        "\n",
        "df_gdge2 = df_gd.groupby([ 'SigUF', 'Ano']).agg({'SigTipoGeracao': 'count','MdaPotenciaInstaladaKW': 'sum'})\n",
        "df_gdge2 = df_gdge2.rename(columns={'SigTipoGeracao': 'Qtde_GD','MdaPotenciaInstaladaKW': 'KW_Total'})\n",
        "df_gdge2"
      ],
      "metadata": {
        "id": "_g09iWvgjEbs"
      },
      "execution_count": null,
      "outputs": []
    },
    {
      "cell_type": "markdown",
      "source": [
        "##3.4 Agrupando dados de GD por município"
      ],
      "metadata": {
        "id": "IMa7UhUhjIuS"
      }
    },
    {
      "cell_type": "markdown",
      "source": [
        "### 3.4.1 Agrupando dados de GD por municipio"
      ],
      "metadata": {
        "id": "h1asp2oUjNR_"
      }
    },
    {
      "cell_type": "code",
      "source": [
        "#Agrupando dados por municipio\n",
        "\n",
        "df_gdgm1 = df_gd.groupby(['CodMunicipioIbge', 'NomMunicipio','SigUF']).agg({'SigTipoGeracao': 'count','MdaPotenciaInstaladaKW': 'sum'})\n",
        "df_gdgm1 = df_gdgm1.rename(columns={'SigTipoGeracao': 'Qtde_GD','MdaPotenciaInstaladaKW': 'KW_Total'})\n",
        "df_gdgm1"
      ],
      "metadata": {
        "id": "3-XbsUP3jRo6"
      },
      "execution_count": null,
      "outputs": []
    },
    {
      "cell_type": "markdown",
      "source": [
        "###3.4.2 Agrupando dados de GD por municipio e por ano"
      ],
      "metadata": {
        "id": "mGRlq-FdjWJs"
      }
    },
    {
      "cell_type": "code",
      "source": [
        "#Agrupando dados por municipio e por ano\n",
        "\n",
        "df_gdgm2 = df_gd.groupby(['CodMunicipioIbge', 'NomMunicipio','SigUF', 'Ano']).agg({'SigTipoGeracao': 'count','MdaPotenciaInstaladaKW': 'sum'})\n",
        "df_gdgm2 = df_gdgm2.rename(columns={'SigTipoGeracao': 'Qtde_GD','MdaPotenciaInstaladaKW': 'KW_Total'})\n",
        "df_gdgm2"
      ],
      "metadata": {
        "id": "PvrpxZgvjYuT"
      },
      "execution_count": null,
      "outputs": []
    },
    {
      "cell_type": "markdown",
      "source": [
        "##3.5 Unificando a Base GD Por Estado"
      ],
      "metadata": {
        "id": "T5-2hMMOjdUi"
      }
    },
    {
      "cell_type": "code",
      "source": [
        "df_gd1 = pd.merge(df_gdge1, dfe5, how = 'left', left_on=\"SigUF\", right_on=\"Sigla_x\")\n",
        "\n",
        "df_gd1.head(5)"
      ],
      "metadata": {
        "id": "QR4MFGS5jhUb"
      },
      "execution_count": null,
      "outputs": []
    },
    {
      "cell_type": "markdown",
      "source": [
        "##3.6 Unificando a Base GD Por município"
      ],
      "metadata": {
        "id": "X7e3_5oAjiHi"
      }
    },
    {
      "cell_type": "code",
      "source": [
        "df_gd2 = pd.merge(df_gdgm1, dfm7, how = 'left', left_on=\"CodMunicipioIbge\", right_on=\"Código\")\n",
        "\n",
        "df_gd2.head(5)"
      ],
      "metadata": {
        "id": "5HYZmLmKU2vF"
      },
      "execution_count": null,
      "outputs": []
    },
    {
      "cell_type": "code",
      "source": [
        "df_gd2.shape"
      ],
      "metadata": {
        "id": "rnwX9se5U6uA"
      },
      "execution_count": null,
      "outputs": []
    },
    {
      "cell_type": "code",
      "source": [
        "df_gd2.columns"
      ],
      "metadata": {
        "id": "ZFQejLXoU7zR"
      },
      "execution_count": null,
      "outputs": []
    },
    {
      "cell_type": "code",
      "source": [
        "df_gd2.info()"
      ],
      "metadata": {
        "id": "G8J4ro-jVy_r"
      },
      "execution_count": null,
      "outputs": []
    },
    {
      "cell_type": "markdown",
      "source": [
        "## 4.0 - Inferências Estatísticas"
      ],
      "metadata": {
        "id": "TTWX3BGvVPne"
      }
    },
    {
      "cell_type": "code",
      "source": [
        "sns.heatmap(df_gd1.corr(), annot=True)"
      ],
      "metadata": {
        "id": "pszEXF59VUlI"
      },
      "execution_count": null,
      "outputs": []
    },
    {
      "cell_type": "code",
      "source": [
        "sns.heatmap(df_gd2.corr(), annot=True)"
      ],
      "metadata": {
        "id": "dl9DSctHj-GY"
      },
      "execution_count": null,
      "outputs": []
    }
  ]
}